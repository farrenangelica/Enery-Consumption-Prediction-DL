{
 "cells": [
  {
   "cell_type": "markdown",
   "metadata": {},
   "source": [
    "# UTS Deep Learning - No 1"
   ]
  },
  {
   "cell_type": "markdown",
   "metadata": {},
   "source": [
    "#### Nama: Farren Angelica Dinzani\n",
    "#### NIM: 2702243546\n",
    "#### Dataset: 1A\n",
    "#### Link video: https://drive.google.com/file/d/1JV4M9mNmjGevwa4qRj6FSAwViduDzjDr/view?usp=sharing"
   ]
  },
  {
   "cell_type": "markdown",
   "metadata": {},
   "source": [
    "# EDA & PREPROCESSING"
   ]
  },
  {
   "cell_type": "code",
   "execution_count": 1,
   "metadata": {},
   "outputs": [],
   "source": [
    "import pandas as pd\n",
    "import numpy as np\n",
    "import seaborn as sns\n",
    "import matplotlib.pyplot as plt\n",
    "from sklearn.preprocessing import LabelEncoder, StandardScaler, OneHotEncoder\n",
    "from sklearn.model_selection import train_test_split\n",
    "from sklearn.impute import SimpleImputer\n",
    "\n",
    "import warnings\n",
    "warnings.filterwarnings('ignore')"
   ]
  },
  {
   "cell_type": "markdown",
   "metadata": {},
   "source": [
    "#### Read data"
   ]
  },
  {
   "cell_type": "code",
   "execution_count": 2,
   "metadata": {},
   "outputs": [
    {
     "data": {
      "text/html": [
       "<div>\n",
       "<style scoped>\n",
       "    .dataframe tbody tr th:only-of-type {\n",
       "        vertical-align: middle;\n",
       "    }\n",
       "\n",
       "    .dataframe tbody tr th {\n",
       "        vertical-align: top;\n",
       "    }\n",
       "\n",
       "    .dataframe thead th {\n",
       "        text-align: right;\n",
       "    }\n",
       "</style>\n",
       "<table border=\"1\" class=\"dataframe\">\n",
       "  <thead>\n",
       "    <tr style=\"text-align: right;\">\n",
       "      <th></th>\n",
       "      <th>Month</th>\n",
       "      <th>Hour</th>\n",
       "      <th>DayOfWeek</th>\n",
       "      <th>Holiday</th>\n",
       "      <th>Temperature</th>\n",
       "      <th>Humidity</th>\n",
       "      <th>SquareFootage</th>\n",
       "      <th>Occupancy</th>\n",
       "      <th>HVACUsage</th>\n",
       "      <th>LightingUsage</th>\n",
       "      <th>RenewableEnergy</th>\n",
       "      <th>EnergyConsumption</th>\n",
       "    </tr>\n",
       "  </thead>\n",
       "  <tbody>\n",
       "    <tr>\n",
       "      <th>0</th>\n",
       "      <td>8</td>\n",
       "      <td>3</td>\n",
       "      <td>Sunday</td>\n",
       "      <td>Yes</td>\n",
       "      <td>24.492063</td>\n",
       "      <td>59.969085</td>\n",
       "      <td>1403.454805</td>\n",
       "      <td>7</td>\n",
       "      <td>On</td>\n",
       "      <td>Off</td>\n",
       "      <td>29.965327</td>\n",
       "      <td>82.05735763545306</td>\n",
       "    </tr>\n",
       "    <tr>\n",
       "      <th>1</th>\n",
       "      <td>1</td>\n",
       "      <td>8</td>\n",
       "      <td>Wednesday</td>\n",
       "      <td>No</td>\n",
       "      <td>26.312114</td>\n",
       "      <td>51.408711</td>\n",
       "      <td>1220.547133</td>\n",
       "      <td>8</td>\n",
       "      <td>On</td>\n",
       "      <td>Off</td>\n",
       "      <td>5.986875</td>\n",
       "      <td>83.88917674427188</td>\n",
       "    </tr>\n",
       "    <tr>\n",
       "      <th>2</th>\n",
       "      <td>1</td>\n",
       "      <td>19</td>\n",
       "      <td>Sunday</td>\n",
       "      <td>Yes</td>\n",
       "      <td>20.516186</td>\n",
       "      <td>40.918500</td>\n",
       "      <td>1114.230124</td>\n",
       "      <td>8</td>\n",
       "      <td>Off</td>\n",
       "      <td>On</td>\n",
       "      <td>20.489098</td>\n",
       "      <td>66.20209750906106</td>\n",
       "    </tr>\n",
       "    <tr>\n",
       "      <th>3</th>\n",
       "      <td>7</td>\n",
       "      <td>3</td>\n",
       "      <td>Wednesday</td>\n",
       "      <td>Yes</td>\n",
       "      <td>20.879426</td>\n",
       "      <td>46.859237</td>\n",
       "      <td>1096.207227</td>\n",
       "      <td>7</td>\n",
       "      <td>Off</td>\n",
       "      <td>On</td>\n",
       "      <td>21.321157</td>\n",
       "      <td>66.43917871187017</td>\n",
       "    </tr>\n",
       "    <tr>\n",
       "      <th>4</th>\n",
       "      <td>10</td>\n",
       "      <td>17</td>\n",
       "      <td>Saturday</td>\n",
       "      <td>No</td>\n",
       "      <td>23.015216</td>\n",
       "      <td>48.998158</td>\n",
       "      <td>1999.982252</td>\n",
       "      <td>1</td>\n",
       "      <td>Off</td>\n",
       "      <td>Off</td>\n",
       "      <td>3.966075</td>\n",
       "      <td>76.90227179904673</td>\n",
       "    </tr>\n",
       "  </tbody>\n",
       "</table>\n",
       "</div>"
      ],
      "text/plain": [
       "  Month  Hour  DayOfWeek Holiday  Temperature   Humidity  SquareFootage  \\\n",
       "0     8     3     Sunday     Yes    24.492063  59.969085    1403.454805   \n",
       "1     1     8  Wednesday      No    26.312114  51.408711    1220.547133   \n",
       "2     1    19     Sunday     Yes    20.516186  40.918500    1114.230124   \n",
       "3     7     3  Wednesday     Yes    20.879426  46.859237    1096.207227   \n",
       "4    10    17   Saturday      No    23.015216  48.998158    1999.982252   \n",
       "\n",
       "   Occupancy HVACUsage LightingUsage  RenewableEnergy  EnergyConsumption  \n",
       "0          7        On           Off        29.965327  82.05735763545306  \n",
       "1          8        On           Off         5.986875  83.88917674427188  \n",
       "2          8       Off            On        20.489098  66.20209750906106  \n",
       "3          7       Off            On        21.321157  66.43917871187017  \n",
       "4          1       Off           Off         3.966075  76.90227179904673  "
      ]
     },
     "execution_count": 2,
     "metadata": {},
     "output_type": "execute_result"
    }
   ],
   "source": [
    "df = pd.read_parquet('dataset_1A.parquet')\n",
    "df.head()"
   ]
  },
  {
   "cell_type": "markdown",
   "metadata": {},
   "source": [
    "#### Informasi data"
   ]
  },
  {
   "cell_type": "code",
   "execution_count": 3,
   "metadata": {},
   "outputs": [
    {
     "data": {
      "text/plain": [
       "(1232, 12)"
      ]
     },
     "execution_count": 3,
     "metadata": {},
     "output_type": "execute_result"
    }
   ],
   "source": [
    "df.shape"
   ]
  },
  {
   "cell_type": "code",
   "execution_count": 4,
   "metadata": {},
   "outputs": [
    {
     "name": "stdout",
     "output_type": "stream",
     "text": [
      "<class 'pandas.core.frame.DataFrame'>\n",
      "RangeIndex: 1232 entries, 0 to 1231\n",
      "Data columns (total 12 columns):\n",
      " #   Column             Non-Null Count  Dtype  \n",
      "---  ------             --------------  -----  \n",
      " 0   Month              1232 non-null   object \n",
      " 1   Hour               1232 non-null   int64  \n",
      " 2   DayOfWeek          1232 non-null   object \n",
      " 3   Holiday            1232 non-null   object \n",
      " 4   Temperature        1232 non-null   float64\n",
      " 5   Humidity           1232 non-null   float64\n",
      " 6   SquareFootage      1232 non-null   float64\n",
      " 7   Occupancy          1232 non-null   int64  \n",
      " 8   HVACUsage          1232 non-null   object \n",
      " 9   LightingUsage      1232 non-null   object \n",
      " 10  RenewableEnergy    1232 non-null   float64\n",
      " 11  EnergyConsumption  1232 non-null   object \n",
      "dtypes: float64(4), int64(2), object(6)\n",
      "memory usage: 115.6+ KB\n"
     ]
    }
   ],
   "source": [
    "df.info()"
   ]
  },
  {
   "cell_type": "markdown",
   "metadata": {},
   "source": [
    "- Dataset terdiri dari 12 kolom.\n",
    "- Memua kolom memiliki nilai non-null yang cukup.\n",
    "- Kolom EnergyConsumption yang perlu diubah menjadi tipe float."
   ]
  },
  {
   "cell_type": "code",
   "execution_count": null,
   "metadata": {},
   "outputs": [],
   "source": [
    "df['EnergyConsumption'] = pd.to_numeric(df['EnergyConsumption'], errors='coerce')"
   ]
  },
  {
   "cell_type": "code",
   "execution_count": 6,
   "metadata": {},
   "outputs": [
    {
     "data": {
      "text/plain": [
       "1            189\n",
       "4            119\n",
       "10           115\n",
       "3            100\n",
       "12            99\n",
       "6             95\n",
       "11            93\n",
       "8             90\n",
       "7             88\n",
       "5             84\n",
       "9             83\n",
       "2             64\n",
       "Sep            7\n",
       "July           4\n",
       "September      2\n",
       "Name: Month, dtype: int64"
      ]
     },
     "execution_count": 6,
     "metadata": {},
     "output_type": "execute_result"
    }
   ],
   "source": [
    "df['Month'].value_counts()"
   ]
  },
  {
   "cell_type": "markdown",
   "metadata": {},
   "source": [
    "Pada kolom 'Month' terdapat data yang tidak sesuai dengan format yang diharapkan. Data tersebut adalah 'Sep', 'July', dan 'September'. Harus diubah menjadi '9', '7', dan '9' agar sesuai dengan format."
   ]
  },
  {
   "cell_type": "code",
   "execution_count": null,
   "metadata": {},
   "outputs": [],
   "source": [
    "df['Month'] = df['Month'].replace({'Sep': 9, 'July': 7, 'September': 9})"
   ]
  },
  {
   "cell_type": "markdown",
   "metadata": {},
   "source": [
    "Ubah data type 'Month' menjadi int"
   ]
  },
  {
   "cell_type": "code",
   "execution_count": 8,
   "metadata": {},
   "outputs": [],
   "source": [
    "df['Month'] = df['Month'].astype(int)"
   ]
  },
  {
   "cell_type": "code",
   "execution_count": 9,
   "metadata": {},
   "outputs": [
    {
     "name": "stdout",
     "output_type": "stream",
     "text": [
      "<class 'pandas.core.frame.DataFrame'>\n",
      "RangeIndex: 1232 entries, 0 to 1231\n",
      "Data columns (total 12 columns):\n",
      " #   Column             Non-Null Count  Dtype  \n",
      "---  ------             --------------  -----  \n",
      " 0   Month              1232 non-null   int64  \n",
      " 1   Hour               1232 non-null   int64  \n",
      " 2   DayOfWeek          1232 non-null   object \n",
      " 3   Holiday            1232 non-null   object \n",
      " 4   Temperature        1232 non-null   float64\n",
      " 5   Humidity           1232 non-null   float64\n",
      " 6   SquareFootage      1232 non-null   float64\n",
      " 7   Occupancy          1232 non-null   int64  \n",
      " 8   HVACUsage          1232 non-null   object \n",
      " 9   LightingUsage      1232 non-null   object \n",
      " 10  RenewableEnergy    1232 non-null   float64\n",
      " 11  EnergyConsumption  1229 non-null   float64\n",
      "dtypes: float64(5), int64(3), object(4)\n",
      "memory usage: 115.6+ KB\n"
     ]
    }
   ],
   "source": [
    "df.info()"
   ]
  },
  {
   "cell_type": "code",
   "execution_count": 10,
   "metadata": {},
   "outputs": [
    {
     "data": {
      "text/plain": [
       "Index(['Month', 'Hour', 'DayOfWeek', 'Holiday', 'Temperature', 'Humidity',\n",
       "       'SquareFootage', 'Occupancy', 'HVACUsage', 'LightingUsage',\n",
       "       'RenewableEnergy', 'EnergyConsumption'],\n",
       "      dtype='object')"
      ]
     },
     "execution_count": 10,
     "metadata": {},
     "output_type": "execute_result"
    }
   ],
   "source": [
    "df.columns"
   ]
  },
  {
   "cell_type": "markdown",
   "metadata": {},
   "source": [
    "#### Prepare data (input & target)"
   ]
  },
  {
   "cell_type": "code",
   "execution_count": null,
   "metadata": {},
   "outputs": [],
   "source": [
    "df_input=df[['Month', 'Hour', 'Holiday', 'Temperature', 'Humidity','SquareFootage', 'Occupancy', 'HVACUsage', 'LightingUsage', 'RenewableEnergy']]\n",
    "df_target=df[['EnergyConsumption']]"
   ]
  },
  {
   "cell_type": "markdown",
   "metadata": {},
   "source": [
    "#### Visualisasi distribusi kolom target: EnergyConsumption"
   ]
  },
  {
   "cell_type": "code",
   "execution_count": null,
   "metadata": {},
   "outputs": [
    {
     "data": {
      "image/png": "[encoded data removed]",
      "text/plain": [
       "<Figure size 1000x600 with 1 Axes>"
      ]
     },
     "metadata": {},
     "output_type": "display_data"
    }
   ],
   "source": [
    "plt.figure(figsize=(10, 6))\n",
    "sns.histplot(df['EnergyConsumption'], bins=30, kde=True)\n",
    "plt.title('Distribusi Energy Consumption')\n",
    "plt.xlabel('Energy Consumption')\n",
    "plt.ylabel('Frekuensi')\n",
    "plt.show()"
   ]
  },
  {
   "cell_type": "markdown",
   "metadata": {},
   "source": [
    "- Data terdistribusi hampir normal, dengan sebagian besar nilai EnergyConsumption berkisar antara 60 hingga 90. \n",
    "- Menunjukkan bahwa sebagian besar gedung memiliki konsumsi energi yang serupa."
   ]
  },
  {
   "cell_type": "markdown",
   "metadata": {},
   "source": [
    "#### Visualisasi korelasi antar fitur"
   ]
  },
  {
   "cell_type": "code",
   "execution_count": null,
   "metadata": {},
   "outputs": [
    {
     "data": {
      "text/plain": [
       "<Axes: >"
      ]
     },
     "execution_count": 13,
     "metadata": {},
     "output_type": "execute_result"
    },
    {
     "data": {
      "image/png": "[encoded data removed]",
      "text/plain": [
       "<Figure size 1200x800 with 2 Axes>"
      ]
     },
     "metadata": {},
     "output_type": "display_data"
    }
   ],
   "source": [
    "plt.figure(figsize=(12, 8))\n",
    "correlation_matrix = df.corr()\n",
    "sns.heatmap(correlation_matrix, annot=True, fmt=\".2f\", cmap=\"coolwarm\", linewidths=0.5)"
   ]
  },
  {
   "cell_type": "markdown",
   "metadata": {},
   "source": [
    "- Temperature memiliki korelasi yang cukup kuat dengan EnergyConsumption.\n",
    "- Masuk akal karena suhu ruangan dapat mempengaruhi penggunaan energi untuk pendinginan atau pemanasan."
   ]
  },
  {
   "cell_type": "markdown",
   "metadata": {},
   "source": [
    "#### Data splitting\n",
    "Menjadi train, val, dan test dengan proporsi 70:10:20"
   ]
  },
  {
   "cell_type": "code",
   "execution_count": null,
   "metadata": {},
   "outputs": [],
   "source": [
    "X_train, X_temp, y_train, y_temp = train_test_split(df_input, df_target, test_size=0.3, random_state=42)\n",
    "X_val, X_test, y_val, y_test = train_test_split(X_temp, y_temp, test_size=0.67, random_state=42)"
   ]
  },
  {
   "cell_type": "markdown",
   "metadata": {},
   "source": [
    "#### Cek missing value"
   ]
  },
  {
   "cell_type": "code",
   "execution_count": null,
   "metadata": {},
   "outputs": [
    {
     "name": "stdout",
     "output_type": "stream",
     "text": [
      "Month              0\n",
      "Hour               0\n",
      "Holiday            0\n",
      "Temperature        0\n",
      "Humidity           0\n",
      "SquareFootage      0\n",
      "Occupancy          0\n",
      "HVACUsage          0\n",
      "LightingUsage      0\n",
      "RenewableEnergy    0\n",
      "dtype: int64\n"
     ]
    }
   ],
   "source": [
    "print(X_train.isnull().sum())"
   ]
  },
  {
   "cell_type": "markdown",
   "metadata": {},
   "source": [
    "Tidak ada missing value"
   ]
  },
  {
   "cell_type": "code",
   "execution_count": 16,
   "metadata": {},
   "outputs": [
    {
     "name": "stdout",
     "output_type": "stream",
     "text": [
      "<class 'pandas.core.frame.DataFrame'>\n",
      "Int64Index: 862 entries, 2 to 1126\n",
      "Data columns (total 10 columns):\n",
      " #   Column           Non-Null Count  Dtype  \n",
      "---  ------           --------------  -----  \n",
      " 0   Month            862 non-null    int64  \n",
      " 1   Hour             862 non-null    int64  \n",
      " 2   Holiday          862 non-null    object \n",
      " 3   Temperature      862 non-null    float64\n",
      " 4   Humidity         862 non-null    float64\n",
      " 5   SquareFootage    862 non-null    float64\n",
      " 6   Occupancy        862 non-null    int64  \n",
      " 7   HVACUsage        862 non-null    object \n",
      " 8   LightingUsage    862 non-null    object \n",
      " 9   RenewableEnergy  862 non-null    float64\n",
      "dtypes: float64(4), int64(3), object(3)\n",
      "memory usage: 74.1+ KB\n"
     ]
    }
   ],
   "source": [
    "X_train.info()"
   ]
  },
  {
   "cell_type": "markdown",
   "metadata": {},
   "source": [
    "#### Encoding"
   ]
  },
  {
   "cell_type": "markdown",
   "metadata": {},
   "source": [
    "Kolom Holiday, HVACUsage, dan LightingUsage adalah variabel kategorikal dengan nilai Yes/No atau On/Off yang perlu diubah menjadi 1/0 untuk dapat digunakan dalam model."
   ]
  },
  {
   "cell_type": "code",
   "execution_count": null,
   "metadata": {},
   "outputs": [],
   "source": [
    "X_train['Holiday'] = X_train['Holiday'].map({'Yes': 1, 'No': 0})\n",
    "X_test['Holiday'] = X_test['Holiday'].map({'Yes': 1, 'No': 0})\n",
    "X_val['Holiday'] = X_val['Holiday'].map({'Yes': 1, 'No': 0})\n",
    "\n",
    "X_train['HVACUsage'] = X_train['HVACUsage'].map({'On': 1, 'Off': 0})\n",
    "X_test['HVACUsage'] = X_test['HVACUsage'].map({'On': 1, 'Off': 0})\n",
    "X_val['HVACUsage'] = X_val['HVACUsage'].map({'On': 1, 'Off': 0})\n",
    "\n",
    "X_train['LightingUsage'] = X_train['LightingUsage'].map({'On': 1, 'Off': 0})\n",
    "X_test['LightingUsage'] = X_test['LightingUsage'].map({'On': 1, 'Off': 0})\n",
    "X_val['LightingUsage'] = X_val['LightingUsage'].map({'On': 1, 'Off': 0})"
   ]
  },
  {
   "cell_type": "markdown",
   "metadata": {},
   "source": [
    "#### cek NaN "
   ]
  },
  {
   "cell_type": "code",
   "execution_count": null,
   "metadata": {},
   "outputs": [
    {
     "name": "stdout",
     "output_type": "stream",
     "text": [
      "False\n",
      "True\n",
      "False\n",
      "False\n",
      "False\n",
      "False\n"
     ]
    }
   ],
   "source": [
    "print(np.any(np.isnan(X_train)))\n",
    "print(np.any(np.isnan(y_train))) \n",
    "\n",
    "print(np.any(np.isnan(X_test)))\n",
    "print(np.any(np.isnan(y_test)))\n",
    "\n",
    "print(np.any(np.isnan(X_val)))\n",
    "print(np.any(np.isnan(y_val)))"
   ]
  },
  {
   "cell_type": "markdown",
   "metadata": {},
   "source": [
    "Terdapat NaN pada y_train, dan lakukan fillna untuk mengisi nilai NaN dengan mean."
   ]
  },
  {
   "cell_type": "code",
   "execution_count": null,
   "metadata": {},
   "outputs": [],
   "source": [
    "y_train = y_train.fillna(y_train.mean())"
   ]
  },
  {
   "cell_type": "markdown",
   "metadata": {},
   "source": [
    "#### Standard Scaling"
   ]
  },
  {
   "cell_type": "code",
   "execution_count": null,
   "metadata": {},
   "outputs": [],
   "source": [
    "standard_scaler = StandardScaler()\n",
    "\n",
    "X_train_standardized = standard_scaler.fit_transform(X_train)\n",
    "X_val_standardized = standard_scaler.transform(X_val)\n",
    "X_test_standardized = standard_scaler.transform(X_test)"
   ]
  },
  {
   "cell_type": "markdown",
   "metadata": {},
   "source": [
    "#### Cek data sebelum melakukan model"
   ]
  },
  {
   "cell_type": "code",
   "execution_count": 108,
   "metadata": {},
   "outputs": [
    {
     "data": {
      "text/html": [
       "<div>\n",
       "<style scoped>\n",
       "    .dataframe tbody tr th:only-of-type {\n",
       "        vertical-align: middle;\n",
       "    }\n",
       "\n",
       "    .dataframe tbody tr th {\n",
       "        vertical-align: top;\n",
       "    }\n",
       "\n",
       "    .dataframe thead th {\n",
       "        text-align: right;\n",
       "    }\n",
       "</style>\n",
       "<table border=\"1\" class=\"dataframe\">\n",
       "  <thead>\n",
       "    <tr style=\"text-align: right;\">\n",
       "      <th></th>\n",
       "      <th>Month</th>\n",
       "      <th>Hour</th>\n",
       "      <th>Holiday</th>\n",
       "      <th>Temperature</th>\n",
       "      <th>Humidity</th>\n",
       "      <th>SquareFootage</th>\n",
       "      <th>Occupancy</th>\n",
       "      <th>HVACUsage</th>\n",
       "      <th>LightingUsage</th>\n",
       "      <th>RenewableEnergy</th>\n",
       "    </tr>\n",
       "  </thead>\n",
       "  <tbody>\n",
       "    <tr>\n",
       "      <th>1219</th>\n",
       "      <td>8</td>\n",
       "      <td>12</td>\n",
       "      <td>1</td>\n",
       "      <td>20.126991</td>\n",
       "      <td>51.408470</td>\n",
       "      <td>1492.203415</td>\n",
       "      <td>7</td>\n",
       "      <td>0</td>\n",
       "      <td>1</td>\n",
       "      <td>5.601723</td>\n",
       "    </tr>\n",
       "    <tr>\n",
       "      <th>355</th>\n",
       "      <td>2</td>\n",
       "      <td>1</td>\n",
       "      <td>1</td>\n",
       "      <td>26.823037</td>\n",
       "      <td>39.000664</td>\n",
       "      <td>1998.439525</td>\n",
       "      <td>3</td>\n",
       "      <td>1</td>\n",
       "      <td>0</td>\n",
       "      <td>23.662534</td>\n",
       "    </tr>\n",
       "    <tr>\n",
       "      <th>415</th>\n",
       "      <td>3</td>\n",
       "      <td>15</td>\n",
       "      <td>0</td>\n",
       "      <td>29.998671</td>\n",
       "      <td>43.798996</td>\n",
       "      <td>1404.058579</td>\n",
       "      <td>3</td>\n",
       "      <td>1</td>\n",
       "      <td>1</td>\n",
       "      <td>7.159337</td>\n",
       "    </tr>\n",
       "    <tr>\n",
       "      <th>310</th>\n",
       "      <td>2</td>\n",
       "      <td>5</td>\n",
       "      <td>1</td>\n",
       "      <td>28.295123</td>\n",
       "      <td>42.784629</td>\n",
       "      <td>1141.161725</td>\n",
       "      <td>1</td>\n",
       "      <td>0</td>\n",
       "      <td>0</td>\n",
       "      <td>9.487899</td>\n",
       "    </tr>\n",
       "    <tr>\n",
       "      <th>344</th>\n",
       "      <td>11</td>\n",
       "      <td>15</td>\n",
       "      <td>1</td>\n",
       "      <td>27.558304</td>\n",
       "      <td>35.324520</td>\n",
       "      <td>1206.614730</td>\n",
       "      <td>1</td>\n",
       "      <td>1</td>\n",
       "      <td>1</td>\n",
       "      <td>8.092473</td>\n",
       "    </tr>\n",
       "  </tbody>\n",
       "</table>\n",
       "</div>"
      ],
      "text/plain": [
       "      Month  Hour  Holiday  Temperature   Humidity  SquareFootage  Occupancy  \\\n",
       "1219      8    12        1    20.126991  51.408470    1492.203415          7   \n",
       "355       2     1        1    26.823037  39.000664    1998.439525          3   \n",
       "415       3    15        0    29.998671  43.798996    1404.058579          3   \n",
       "310       2     5        1    28.295123  42.784629    1141.161725          1   \n",
       "344      11    15        1    27.558304  35.324520    1206.614730          1   \n",
       "\n",
       "      HVACUsage  LightingUsage  RenewableEnergy  \n",
       "1219          0              1         5.601723  \n",
       "355           1              0        23.662534  \n",
       "415           1              1         7.159337  \n",
       "310           0              0         9.487899  \n",
       "344           1              1         8.092473  "
      ]
     },
     "execution_count": 108,
     "metadata": {},
     "output_type": "execute_result"
    }
   ],
   "source": [
    "X_test.head()"
   ]
  },
  {
   "cell_type": "code",
   "execution_count": 23,
   "metadata": {},
   "outputs": [],
   "source": [
    "import tensorflow as tf\n",
    "\n",
    "# Mendapatkan daftar perangkat fisik GPU\n",
    "physical_devices = tf.config.list_physical_devices('GPU')\n",
    "\n",
    "# Nonaktifkan GPU dengan menyembunyikan GPU\n",
    "if len(physical_devices) > 0:\n",
    "    tf.config.set_visible_devices([], 'GPU')"
   ]
  },
  {
   "cell_type": "markdown",
   "metadata": {},
   "source": [
    "# SEQUENTIAL MODEL\n",
    "Dalam model ini, setiap lapisan (layer) tersambung secara berurutan dari lapisan input hingga lapisan output. "
   ]
  },
  {
   "cell_type": "markdown",
   "metadata": {},
   "source": [
    "#### Pembuatan model Sequential\n",
    "- Input layer: Jumlah fitur = 10\n",
    "- Hidden layer: Jumlah neuron untuk setiap layer adalah 20, karena input memiliki 10 fitur\n",
    "- Output layer: Memiliki 1 neuron karena kita melakukan regresi, di mana kita ingin memprediksi EnergyConsumption, yang merupakan nilai kontinu.\n",
    "- Compile model: Fungsi loss yang digunakan adalah mean_squared_error (MSE), ideal untuk regresi."
   ]
  },
  {
   "cell_type": "code",
   "execution_count": null,
   "metadata": {},
   "outputs": [
    {
     "data": {
      "text/html": [
       "<pre style=\"white-space:pre;overflow-x:auto;line-height:normal;font-family:Menlo,'DejaVu Sans Mono',consolas,'Courier New',monospace\"><span style=\"font-weight: bold\">Model: \"sequential\"</span>\n",
       "</pre>\n"
      ],
      "text/plain": [
       "\u001b[1mModel: \"sequential\"\u001b[0m\n"
      ]
     },
     "metadata": {},
     "output_type": "display_data"
    },
    {
     "data": {
      "text/html": [
       "<pre style=\"white-space:pre;overflow-x:auto;line-height:normal;font-family:Menlo,'DejaVu Sans Mono',consolas,'Courier New',monospace\">┏━━━━━━━━━━━━━━━━━━━━━━━━━━━━━━━━━┳━━━━━━━━━━━━━━━━━━━━━━━━┳━━━━━━━━━━━━━━━┓\n",
       "┃<span style=\"font-weight: bold\"> Layer (type)                    </span>┃<span style=\"font-weight: bold\"> Output Shape           </span>┃<span style=\"font-weight: bold\">       Param # </span>┃\n",
       "┡━━━━━━━━━━━━━━━━━━━━━━━━━━━━━━━━━╇━━━━━━━━━━━━━━━━━━━━━━━━╇━━━━━━━━━━━━━━━┩\n",
       "│ dense (<span style=\"color: #0087ff; text-decoration-color: #0087ff\">Dense</span>)                   │ (<span style=\"color: #00d7ff; text-decoration-color: #00d7ff\">None</span>, <span style=\"color: #00af00; text-decoration-color: #00af00\">20</span>)             │           <span style=\"color: #00af00; text-decoration-color: #00af00\">220</span> │\n",
       "├─────────────────────────────────┼────────────────────────┼───────────────┤\n",
       "│ dense_1 (<span style=\"color: #0087ff; text-decoration-color: #0087ff\">Dense</span>)                 │ (<span style=\"color: #00d7ff; text-decoration-color: #00d7ff\">None</span>, <span style=\"color: #00af00; text-decoration-color: #00af00\">20</span>)             │           <span style=\"color: #00af00; text-decoration-color: #00af00\">420</span> │\n",
       "├─────────────────────────────────┼────────────────────────┼───────────────┤\n",
       "│ dense_2 (<span style=\"color: #0087ff; text-decoration-color: #0087ff\">Dense</span>)                 │ (<span style=\"color: #00d7ff; text-decoration-color: #00d7ff\">None</span>, <span style=\"color: #00af00; text-decoration-color: #00af00\">1</span>)              │            <span style=\"color: #00af00; text-decoration-color: #00af00\">21</span> │\n",
       "└─────────────────────────────────┴────────────────────────┴───────────────┘\n",
       "</pre>\n"
      ],
      "text/plain": [
       "┏━━━━━━━━━━━━━━━━━━━━━━━━━━━━━━━━━┳━━━━━━━━━━━━━━━━━━━━━━━━┳━━━━━━━━━━━━━━━┓\n",
       "┃\u001b[1m \u001b[0m\u001b[1mLayer (type)                   \u001b[0m\u001b[1m \u001b[0m┃\u001b[1m \u001b[0m\u001b[1mOutput Shape          \u001b[0m\u001b[1m \u001b[0m┃\u001b[1m \u001b[0m\u001b[1m      Param #\u001b[0m\u001b[1m \u001b[0m┃\n",
       "┡━━━━━━━━━━━━━━━━━━━━━━━━━━━━━━━━━╇━━━━━━━━━━━━━━━━━━━━━━━━╇━━━━━━━━━━━━━━━┩\n",
       "│ dense (\u001b[38;5;33mDense\u001b[0m)                   │ (\u001b[38;5;45mNone\u001b[0m, \u001b[38;5;34m20\u001b[0m)             │           \u001b[38;5;34m220\u001b[0m │\n",
       "├─────────────────────────────────┼────────────────────────┼───────────────┤\n",
       "│ dense_1 (\u001b[38;5;33mDense\u001b[0m)                 │ (\u001b[38;5;45mNone\u001b[0m, \u001b[38;5;34m20\u001b[0m)             │           \u001b[38;5;34m420\u001b[0m │\n",
       "├─────────────────────────────────┼────────────────────────┼───────────────┤\n",
       "│ dense_2 (\u001b[38;5;33mDense\u001b[0m)                 │ (\u001b[38;5;45mNone\u001b[0m, \u001b[38;5;34m1\u001b[0m)              │            \u001b[38;5;34m21\u001b[0m │\n",
       "└─────────────────────────────────┴────────────────────────┴───────────────┘\n"
      ]
     },
     "metadata": {},
     "output_type": "display_data"
    },
    {
     "data": {
      "text/html": [
       "<pre style=\"white-space:pre;overflow-x:auto;line-height:normal;font-family:Menlo,'DejaVu Sans Mono',consolas,'Courier New',monospace\"><span style=\"font-weight: bold\"> Total params: </span><span style=\"color: #00af00; text-decoration-color: #00af00\">661</span> (2.58 KB)\n",
       "</pre>\n"
      ],
      "text/plain": [
       "\u001b[1m Total params: \u001b[0m\u001b[38;5;34m661\u001b[0m (2.58 KB)\n"
      ]
     },
     "metadata": {},
     "output_type": "display_data"
    },
    {
     "data": {
      "text/html": [
       "<pre style=\"white-space:pre;overflow-x:auto;line-height:normal;font-family:Menlo,'DejaVu Sans Mono',consolas,'Courier New',monospace\"><span style=\"font-weight: bold\"> Trainable params: </span><span style=\"color: #00af00; text-decoration-color: #00af00\">661</span> (2.58 KB)\n",
       "</pre>\n"
      ],
      "text/plain": [
       "\u001b[1m Trainable params: \u001b[0m\u001b[38;5;34m661\u001b[0m (2.58 KB)\n"
      ]
     },
     "metadata": {},
     "output_type": "display_data"
    },
    {
     "data": {
      "text/html": [
       "<pre style=\"white-space:pre;overflow-x:auto;line-height:normal;font-family:Menlo,'DejaVu Sans Mono',consolas,'Courier New',monospace\"><span style=\"font-weight: bold\"> Non-trainable params: </span><span style=\"color: #00af00; text-decoration-color: #00af00\">0</span> (0.00 B)\n",
       "</pre>\n"
      ],
      "text/plain": [
       "\u001b[1m Non-trainable params: \u001b[0m\u001b[38;5;34m0\u001b[0m (0.00 B)\n"
      ]
     },
     "metadata": {},
     "output_type": "display_data"
    }
   ],
   "source": [
    "import keras\n",
    "from tensorflow.keras.models import Sequential\n",
    "from tensorflow.keras import layers, Input, Model\n",
    "import tensorflow as tf\n",
    "\n",
    "input_dim = X_train.shape[1]\n",
    "\n",
    "model_sequential = Sequential()\n",
    "\n",
    "model_sequential.add(tf.keras.Input(shape=(input_dim,)))\n",
    "\n",
    "model_sequential.add(layers.Dense(2 * input_dim, activation='relu'))  \n",
    "model_sequential.add(layers.Dense(2 * input_dim, activation='relu')) \n",
    "\n",
    "model_sequential.add(layers.Dense(1))\n",
    "\n",
    "model_sequential.compile(optimizer='adam', loss='mean_squared_error', \n",
    "                          metrics=['mae', 'mape', tf.keras.metrics.RootMeanSquaredError()])\n",
    "\n",
    "model_sequential.summary()"
   ]
  },
  {
   "cell_type": "markdown",
   "metadata": {},
   "source": [
    "Training: Model dilatih menggunakan 15 epoch."
   ]
  },
  {
   "cell_type": "code",
   "execution_count": null,
   "metadata": {},
   "outputs": [
    {
     "name": "stdout",
     "output_type": "stream",
     "text": [
      "Epoch 1/15\n",
      "\u001b[1m27/27\u001b[0m \u001b[32m━━━━━━━━━━━━━━━━━━━━\u001b[0m\u001b[37m\u001b[0m \u001b[1m0s\u001b[0m 3ms/step - loss: 61.7545 - mae: 6.2082 - mape: 8.2447 - root_mean_squared_error: 7.8521 - val_loss: 85.4363 - val_mae: 7.6835 - val_mape: 10.1452 - val_root_mean_squared_error: 9.2432\n",
      "Epoch 2/15\n",
      "\u001b[1m27/27\u001b[0m \u001b[32m━━━━━━━━━━━━━━━━━━━━\u001b[0m\u001b[37m\u001b[0m \u001b[1m0s\u001b[0m 2ms/step - loss: 65.4547 - mae: 6.3566 - mape: 8.4657 - root_mean_squared_error: 8.0886 - val_loss: 90.0275 - val_mae: 7.9099 - val_mape: 10.3797 - val_root_mean_squared_error: 9.4883\n",
      "Epoch 3/15\n",
      "\u001b[1m27/27\u001b[0m \u001b[32m━━━━━━━━━━━━━━━━━━━━\u001b[0m\u001b[37m\u001b[0m \u001b[1m0s\u001b[0m 2ms/step - loss: 68.3369 - mae: 6.5088 - mape: 8.5728 - root_mean_squared_error: 8.2646 - val_loss: 75.2581 - val_mae: 6.5077 - val_mape: 9.1421 - val_root_mean_squared_error: 8.6751\n",
      "Epoch 4/15\n",
      "\u001b[1m27/27\u001b[0m \u001b[32m━━━━━━━━━━━━━━━━━━━━\u001b[0m\u001b[37m\u001b[0m \u001b[1m0s\u001b[0m 2ms/step - loss: 69.7819 - mae: 6.5294 - mape: 8.7844 - root_mean_squared_error: 8.3510 - val_loss: 73.7685 - val_mae: 6.8928 - val_mape: 9.3496 - val_root_mean_squared_error: 8.5889\n",
      "Epoch 5/15\n",
      "\u001b[1m27/27\u001b[0m \u001b[32m━━━━━━━━━━━━━━━━━━━━\u001b[0m\u001b[37m\u001b[0m \u001b[1m0s\u001b[0m 2ms/step - loss: 61.5166 - mae: 6.3112 - mape: 8.4263 - root_mean_squared_error: 7.8409 - val_loss: 72.8996 - val_mae: 6.7872 - val_mape: 9.2489 - val_root_mean_squared_error: 8.5381\n",
      "Epoch 6/15\n",
      "\u001b[1m27/27\u001b[0m \u001b[32m━━━━━━━━━━━━━━━━━━━━\u001b[0m\u001b[37m\u001b[0m \u001b[1m0s\u001b[0m 2ms/step - loss: 63.2037 - mae: 6.4156 - mape: 8.5357 - root_mean_squared_error: 7.9429 - val_loss: 76.2150 - val_mae: 6.5231 - val_mape: 9.1875 - val_root_mean_squared_error: 8.7301\n",
      "Epoch 7/15\n",
      "\u001b[1m27/27\u001b[0m \u001b[32m━━━━━━━━━━━━━━━━━━━━\u001b[0m\u001b[37m\u001b[0m \u001b[1m0s\u001b[0m 2ms/step - loss: 70.2456 - mae: 6.6787 - mape: 9.0003 - root_mean_squared_error: 8.3802 - val_loss: 76.0833 - val_mae: 7.1066 - val_mape: 9.5585 - val_root_mean_squared_error: 8.7226\n",
      "Epoch 8/15\n",
      "\u001b[1m27/27\u001b[0m \u001b[32m━━━━━━━━━━━━━━━━━━━━\u001b[0m\u001b[37m\u001b[0m \u001b[1m0s\u001b[0m 2ms/step - loss: 66.8895 - mae: 6.6280 - mape: 8.7517 - root_mean_squared_error: 8.1770 - val_loss: 76.8982 - val_mae: 7.1688 - val_mape: 9.6198 - val_root_mean_squared_error: 8.7692\n",
      "Epoch 9/15\n",
      "\u001b[1m27/27\u001b[0m \u001b[32m━━━━━━━━━━━━━━━━━━━━\u001b[0m\u001b[37m\u001b[0m \u001b[1m0s\u001b[0m 2ms/step - loss: 62.1864 - mae: 6.3153 - mape: 8.4618 - root_mean_squared_error: 7.8813 - val_loss: 72.0271 - val_mae: 6.5605 - val_mape: 9.0662 - val_root_mean_squared_error: 8.4869\n",
      "Epoch 10/15\n",
      "\u001b[1m27/27\u001b[0m \u001b[32m━━━━━━━━━━━━━━━━━━━━\u001b[0m\u001b[37m\u001b[0m \u001b[1m0s\u001b[0m 2ms/step - loss: 61.1945 - mae: 6.1599 - mape: 8.2370 - root_mean_squared_error: 7.8028 - val_loss: 77.4493 - val_mae: 7.2085 - val_mape: 9.6609 - val_root_mean_squared_error: 8.8005\n",
      "Epoch 11/15\n",
      "\u001b[1m27/27\u001b[0m \u001b[32m━━━━━━━━━━━━━━━━━━━━\u001b[0m\u001b[37m\u001b[0m \u001b[1m0s\u001b[0m 2ms/step - loss: 67.2476 - mae: 6.4562 - mape: 8.5270 - root_mean_squared_error: 8.1993 - val_loss: 72.0824 - val_mae: 6.5429 - val_mape: 9.0601 - val_root_mean_squared_error: 8.4901\n",
      "Epoch 12/15\n",
      "\u001b[1m27/27\u001b[0m \u001b[32m━━━━━━━━━━━━━━━━━━━━\u001b[0m\u001b[37m\u001b[0m \u001b[1m0s\u001b[0m 2ms/step - loss: 67.4649 - mae: 6.4994 - mape: 8.7797 - root_mean_squared_error: 8.2021 - val_loss: 75.9357 - val_mae: 6.5116 - val_mape: 9.1648 - val_root_mean_squared_error: 8.7141\n",
      "Epoch 13/15\n",
      "\u001b[1m27/27\u001b[0m \u001b[32m━━━━━━━━━━━━━━━━━━━━\u001b[0m\u001b[37m\u001b[0m \u001b[1m0s\u001b[0m 2ms/step - loss: 74.9500 - mae: 6.9464 - mape: 9.2348 - root_mean_squared_error: 8.6511 - val_loss: 73.9596 - val_mae: 6.5101 - val_mape: 9.1131 - val_root_mean_squared_error: 8.6000\n",
      "Epoch 14/15\n",
      "\u001b[1m27/27\u001b[0m \u001b[32m━━━━━━━━━━━━━━━━━━━━\u001b[0m\u001b[37m\u001b[0m \u001b[1m0s\u001b[0m 2ms/step - loss: 69.6439 - mae: 6.6325 - mape: 8.9266 - root_mean_squared_error: 8.3440 - val_loss: 77.9204 - val_mae: 7.2403 - val_mape: 9.6944 - val_root_mean_squared_error: 8.8273\n",
      "Epoch 15/15\n",
      "\u001b[1m27/27\u001b[0m \u001b[32m━━━━━━━━━━━━━━━━━━━━\u001b[0m\u001b[37m\u001b[0m \u001b[1m0s\u001b[0m 2ms/step - loss: 63.9658 - mae: 6.4420 - mape: 8.5346 - root_mean_squared_error: 7.9923 - val_loss: 71.8889 - val_mae: 6.5792 - val_mape: 9.0749 - val_root_mean_squared_error: 8.4787\n"
     ]
    },
    {
     "data": {
      "text/plain": [
       "<keras.src.callbacks.history.History at 0x2d2c18850>"
      ]
     },
     "execution_count": 45,
     "metadata": {},
     "output_type": "execute_result"
    }
   ],
   "source": [
    "model_sequential.fit(X_train, y_train, epochs=15, validation_data=(X_val, y_val))"
   ]
  },
  {
   "cell_type": "markdown",
   "metadata": {},
   "source": [
    "# FUNCTIONAL MODEL\n",
    "Lebih fleksibel dibandingkan Sequential Model. Functional memungkinkan pembuatan model yang lebih kompleks dengan berbagai input, output, dan koneksi yang lebih rumit. "
   ]
  },
  {
   "cell_type": "markdown",
   "metadata": {},
   "source": [
    "#### Pembuatan model Functional\n",
    "- Input layer: Jumlah fitur = 10\n",
    "- Hidden layer: Jumlah neuron untuk setiap layer adalah 20, karena input memiliki 10 fitur\n",
    "- Output layer: Memiliki 1 neuron karena kita melakukan regresi, di mana kita ingin memprediksi EnergyConsumption, yang merupakan nilai kontinu.\n",
    "- Compile model: Fungsi loss yang digunakan adalah mean_squared_error (MSE), ideal untuk regresi."
   ]
  },
  {
   "cell_type": "code",
   "execution_count": null,
   "metadata": {},
   "outputs": [
    {
     "name": "stdout",
     "output_type": "stream",
     "text": [
      "Functional Model Summary:\n"
     ]
    },
    {
     "data": {
      "text/html": [
       "<pre style=\"white-space:pre;overflow-x:auto;line-height:normal;font-family:Menlo,'DejaVu Sans Mono',consolas,'Courier New',monospace\"><span style=\"font-weight: bold\">Model: \"functional_3\"</span>\n",
       "</pre>\n"
      ],
      "text/plain": [
       "\u001b[1mModel: \"functional_3\"\u001b[0m\n"
      ]
     },
     "metadata": {},
     "output_type": "display_data"
    },
    {
     "data": {
      "text/html": [
       "<pre style=\"white-space:pre;overflow-x:auto;line-height:normal;font-family:Menlo,'DejaVu Sans Mono',consolas,'Courier New',monospace\">┏━━━━━━━━━━━━━━━━━━━━━━━━━━━━━━━━━┳━━━━━━━━━━━━━━━━━━━━━━━━┳━━━━━━━━━━━━━━━┓\n",
       "┃<span style=\"font-weight: bold\"> Layer (type)                    </span>┃<span style=\"font-weight: bold\"> Output Shape           </span>┃<span style=\"font-weight: bold\">       Param # </span>┃\n",
       "┡━━━━━━━━━━━━━━━━━━━━━━━━━━━━━━━━━╇━━━━━━━━━━━━━━━━━━━━━━━━╇━━━━━━━━━━━━━━━┩\n",
       "│ input_layer_1 (<span style=\"color: #0087ff; text-decoration-color: #0087ff\">InputLayer</span>)      │ (<span style=\"color: #00d7ff; text-decoration-color: #00d7ff\">None</span>, <span style=\"color: #00af00; text-decoration-color: #00af00\">10</span>)             │             <span style=\"color: #00af00; text-decoration-color: #00af00\">0</span> │\n",
       "├─────────────────────────────────┼────────────────────────┼───────────────┤\n",
       "│ dense_3 (<span style=\"color: #0087ff; text-decoration-color: #0087ff\">Dense</span>)                 │ (<span style=\"color: #00d7ff; text-decoration-color: #00d7ff\">None</span>, <span style=\"color: #00af00; text-decoration-color: #00af00\">20</span>)             │           <span style=\"color: #00af00; text-decoration-color: #00af00\">220</span> │\n",
       "├─────────────────────────────────┼────────────────────────┼───────────────┤\n",
       "│ dense_4 (<span style=\"color: #0087ff; text-decoration-color: #0087ff\">Dense</span>)                 │ (<span style=\"color: #00d7ff; text-decoration-color: #00d7ff\">None</span>, <span style=\"color: #00af00; text-decoration-color: #00af00\">20</span>)             │           <span style=\"color: #00af00; text-decoration-color: #00af00\">420</span> │\n",
       "├─────────────────────────────────┼────────────────────────┼───────────────┤\n",
       "│ dense_5 (<span style=\"color: #0087ff; text-decoration-color: #0087ff\">Dense</span>)                 │ (<span style=\"color: #00d7ff; text-decoration-color: #00d7ff\">None</span>, <span style=\"color: #00af00; text-decoration-color: #00af00\">1</span>)              │            <span style=\"color: #00af00; text-decoration-color: #00af00\">21</span> │\n",
       "└─────────────────────────────────┴────────────────────────┴───────────────┘\n",
       "</pre>\n"
      ],
      "text/plain": [
       "┏━━━━━━━━━━━━━━━━━━━━━━━━━━━━━━━━━┳━━━━━━━━━━━━━━━━━━━━━━━━┳━━━━━━━━━━━━━━━┓\n",
       "┃\u001b[1m \u001b[0m\u001b[1mLayer (type)                   \u001b[0m\u001b[1m \u001b[0m┃\u001b[1m \u001b[0m\u001b[1mOutput Shape          \u001b[0m\u001b[1m \u001b[0m┃\u001b[1m \u001b[0m\u001b[1m      Param #\u001b[0m\u001b[1m \u001b[0m┃\n",
       "┡━━━━━━━━━━━━━━━━━━━━━━━━━━━━━━━━━╇━━━━━━━━━━━━━━━━━━━━━━━━╇━━━━━━━━━━━━━━━┩\n",
       "│ input_layer_1 (\u001b[38;5;33mInputLayer\u001b[0m)      │ (\u001b[38;5;45mNone\u001b[0m, \u001b[38;5;34m10\u001b[0m)             │             \u001b[38;5;34m0\u001b[0m │\n",
       "├─────────────────────────────────┼────────────────────────┼───────────────┤\n",
       "│ dense_3 (\u001b[38;5;33mDense\u001b[0m)                 │ (\u001b[38;5;45mNone\u001b[0m, \u001b[38;5;34m20\u001b[0m)             │           \u001b[38;5;34m220\u001b[0m │\n",
       "├─────────────────────────────────┼────────────────────────┼───────────────┤\n",
       "│ dense_4 (\u001b[38;5;33mDense\u001b[0m)                 │ (\u001b[38;5;45mNone\u001b[0m, \u001b[38;5;34m20\u001b[0m)             │           \u001b[38;5;34m420\u001b[0m │\n",
       "├─────────────────────────────────┼────────────────────────┼───────────────┤\n",
       "│ dense_5 (\u001b[38;5;33mDense\u001b[0m)                 │ (\u001b[38;5;45mNone\u001b[0m, \u001b[38;5;34m1\u001b[0m)              │            \u001b[38;5;34m21\u001b[0m │\n",
       "└─────────────────────────────────┴────────────────────────┴───────────────┘\n"
      ]
     },
     "metadata": {},
     "output_type": "display_data"
    },
    {
     "data": {
      "text/html": [
       "<pre style=\"white-space:pre;overflow-x:auto;line-height:normal;font-family:Menlo,'DejaVu Sans Mono',consolas,'Courier New',monospace\"><span style=\"font-weight: bold\"> Total params: </span><span style=\"color: #00af00; text-decoration-color: #00af00\">661</span> (2.58 KB)\n",
       "</pre>\n"
      ],
      "text/plain": [
       "\u001b[1m Total params: \u001b[0m\u001b[38;5;34m661\u001b[0m (2.58 KB)\n"
      ]
     },
     "metadata": {},
     "output_type": "display_data"
    },
    {
     "data": {
      "text/html": [
       "<pre style=\"white-space:pre;overflow-x:auto;line-height:normal;font-family:Menlo,'DejaVu Sans Mono',consolas,'Courier New',monospace\"><span style=\"font-weight: bold\"> Trainable params: </span><span style=\"color: #00af00; text-decoration-color: #00af00\">661</span> (2.58 KB)\n",
       "</pre>\n"
      ],
      "text/plain": [
       "\u001b[1m Trainable params: \u001b[0m\u001b[38;5;34m661\u001b[0m (2.58 KB)\n"
      ]
     },
     "metadata": {},
     "output_type": "display_data"
    },
    {
     "data": {
      "text/html": [
       "<pre style=\"white-space:pre;overflow-x:auto;line-height:normal;font-family:Menlo,'DejaVu Sans Mono',consolas,'Courier New',monospace\"><span style=\"font-weight: bold\"> Non-trainable params: </span><span style=\"color: #00af00; text-decoration-color: #00af00\">0</span> (0.00 B)\n",
       "</pre>\n"
      ],
      "text/plain": [
       "\u001b[1m Non-trainable params: \u001b[0m\u001b[38;5;34m0\u001b[0m (0.00 B)\n"
      ]
     },
     "metadata": {},
     "output_type": "display_data"
    }
   ],
   "source": [
    "from tensorflow.keras import layers, Input, Model\n",
    "\n",
    "inputs = Input(shape=(input_dim,))\n",
    "\n",
    "x = layers.Dense(2 * input_dim, activation='relu')(inputs)\n",
    "x = layers.Dense(2 * input_dim, activation='relu')(x)\n",
    "\n",
    "outputs = layers.Dense(1)(x)  # Output layer (regresi)\n",
    "\n",
    "model_functional = Model(inputs=inputs, outputs=outputs)\n",
    "\n",
    "model_functional.compile(optimizer='adam', loss='mean_squared_error', \n",
    "                         metrics=['mae', 'mape', tf.keras.metrics.RootMeanSquaredError()])\n",
    "\n",
    "print(\"Functional Model Summary:\")\n",
    "model_functional.summary()"
   ]
  },
  {
   "cell_type": "markdown",
   "metadata": {},
   "source": [
    "Training: Model dilatih menggunakan 15 epoch."
   ]
  },
  {
   "cell_type": "code",
   "execution_count": null,
   "metadata": {},
   "outputs": [
    {
     "name": "stdout",
     "output_type": "stream",
     "text": [
      "Epoch 1/15\n",
      "27/27 - 0s - 4ms/step - loss: 72.3171 - mae: 6.9013 - mape: 9.1790 - root_mean_squared_error: 8.5039 - val_loss: 73.0154 - val_mae: 6.6162 - val_mape: 9.1384 - val_root_mean_squared_error: 8.5449\n",
      "Epoch 2/15\n",
      "27/27 - 0s - 3ms/step - loss: 73.3371 - mae: 6.8222 - mape: 9.0588 - root_mean_squared_error: 8.5637 - val_loss: 77.4449 - val_mae: 7.1628 - val_mape: 9.6364 - val_root_mean_squared_error: 8.8003\n",
      "Epoch 3/15\n",
      "27/27 - 0s - 3ms/step - loss: 67.1327 - mae: 6.4978 - mape: 8.6627 - root_mean_squared_error: 8.1935 - val_loss: 74.3012 - val_mae: 6.5541 - val_mape: 9.1479 - val_root_mean_squared_error: 8.6198\n",
      "Epoch 4/15\n",
      "27/27 - 0s - 3ms/step - loss: 66.4327 - mae: 6.4879 - mape: 8.6473 - root_mean_squared_error: 8.1506 - val_loss: 74.0580 - val_mae: 6.8401 - val_mape: 9.3212 - val_root_mean_squared_error: 8.6057\n",
      "Epoch 5/15\n",
      "27/27 - 0s - 3ms/step - loss: 71.4347 - mae: 6.7012 - mape: 8.9125 - root_mean_squared_error: 8.4519 - val_loss: 74.7921 - val_mae: 6.9241 - val_mape: 9.3999 - val_root_mean_squared_error: 8.6482\n",
      "Epoch 6/15\n",
      "27/27 - 0s - 3ms/step - loss: 68.2584 - mae: 6.5547 - mape: 8.6917 - root_mean_squared_error: 8.2619 - val_loss: 73.0159 - val_mae: 6.6657 - val_mape: 9.1734 - val_root_mean_squared_error: 8.5449\n",
      "Epoch 7/15\n",
      "27/27 - 0s - 3ms/step - loss: 79.8708 - mae: 7.0246 - mape: 9.3411 - root_mean_squared_error: 8.9370 - val_loss: 90.9948 - val_mae: 7.9256 - val_mape: 10.4097 - val_root_mean_squared_error: 9.5391\n",
      "Epoch 8/15\n",
      "27/27 - 0s - 3ms/step - loss: 77.6849 - mae: 7.0689 - mape: 9.4095 - root_mean_squared_error: 8.8139 - val_loss: 88.8695 - val_mae: 7.8216 - val_mape: 10.3017 - val_root_mean_squared_error: 9.4271\n",
      "Epoch 9/15\n",
      "27/27 - 0s - 3ms/step - loss: 74.4918 - mae: 6.9592 - mape: 9.2541 - root_mean_squared_error: 8.6309 - val_loss: 79.4793 - val_mae: 7.3051 - val_mape: 9.7764 - val_root_mean_squared_error: 8.9151\n",
      "Epoch 10/15\n",
      "27/27 - 0s - 3ms/step - loss: 66.9765 - mae: 6.5214 - mape: 8.6914 - root_mean_squared_error: 8.1839 - val_loss: 74.2450 - val_mae: 6.8601 - val_mape: 9.3406 - val_root_mean_squared_error: 8.6166\n",
      "Epoch 11/15\n",
      "27/27 - 0s - 3ms/step - loss: 67.0780 - mae: 6.5162 - mape: 8.6833 - root_mean_squared_error: 8.1901 - val_loss: 72.9884 - val_mae: 6.6516 - val_mape: 9.1614 - val_root_mean_squared_error: 8.5433\n",
      "Epoch 12/15\n",
      "27/27 - 0s - 3ms/step - loss: 70.3250 - mae: 6.6899 - mape: 8.9025 - root_mean_squared_error: 8.3860 - val_loss: 73.7768 - val_mae: 6.5607 - val_mape: 9.1340 - val_root_mean_squared_error: 8.5893\n",
      "Epoch 13/15\n",
      "27/27 - 0s - 3ms/step - loss: 69.2405 - mae: 6.5967 - mape: 8.7707 - root_mean_squared_error: 8.3211 - val_loss: 77.5449 - val_mae: 7.1711 - val_mape: 9.6444 - val_root_mean_squared_error: 8.8060\n",
      "Epoch 14/15\n",
      "27/27 - 0s - 3ms/step - loss: 73.3149 - mae: 6.7915 - mape: 9.0519 - root_mean_squared_error: 8.5624 - val_loss: 92.4336 - val_mae: 7.9924 - val_mape: 10.4810 - val_root_mean_squared_error: 9.6142\n",
      "Epoch 15/15\n",
      "27/27 - 0s - 3ms/step - loss: 67.8459 - mae: 6.5494 - mape: 8.7061 - root_mean_squared_error: 8.2369 - val_loss: 73.1494 - val_mae: 6.7027 - val_mape: 9.2019 - val_root_mean_squared_error: 8.5527\n"
     ]
    },
    {
     "data": {
      "text/plain": [
       "<keras.src.callbacks.history.History at 0x2d4d08ed0>"
      ]
     },
     "execution_count": 65,
     "metadata": {},
     "output_type": "execute_result"
    }
   ],
   "source": [
    "model_functional.fit(X_train, y_train, epochs=15, validation_data=(X_val, y_val), verbose=2)"
   ]
  },
  {
   "cell_type": "markdown",
   "metadata": {},
   "source": [
    "# MODIFIKASI SEQUENTIAL MODEL"
   ]
  },
  {
   "cell_type": "markdown",
   "metadata": {},
   "source": [
    "1. Input layer: sesuai dengan jumlah fitur input = 10\n",
    "2. Hidden layer pertama: \n",
    "    - menambah jumlah neuron menjadi tiga kali lipat dimensi input untuk meningkatkan kapasitas model.\n",
    "    - Leaky ReLU mencegah masalah \"dying neurons\" dengan memberikan nilai kecil untuk nilai negatif (alpha=0.3).\n",
    "    - Batch Normalization untuk membantu model belajar lebih cepat dan stabil.\n",
    "    - Menggunakan Dropout sebesar 30% untuk mencegah overfitting.\n",
    "3. Hidden layer kedua: Neuron lebih banyak lagi, konfigurasi sama.\n",
    "4. Hidden layer ketiga: 2x jumlah neuron dari dimensi input.\n",
    "5. Output layer: 1 neuron, karena kita melakukan tugas regresi untuk memprediksi nilai kontinu dari EnergyConsumption."
   ]
  },
  {
   "cell_type": "code",
   "execution_count": null,
   "metadata": {},
   "outputs": [
    {
     "data": {
      "text/html": [
       "<pre style=\"white-space:pre;overflow-x:auto;line-height:normal;font-family:Menlo,'DejaVu Sans Mono',consolas,'Courier New',monospace\"><span style=\"font-weight: bold\">Model: \"sequential_1\"</span>\n",
       "</pre>\n"
      ],
      "text/plain": [
       "\u001b[1mModel: \"sequential_1\"\u001b[0m\n"
      ]
     },
     "metadata": {},
     "output_type": "display_data"
    },
    {
     "data": {
      "text/html": [
       "<pre style=\"white-space:pre;overflow-x:auto;line-height:normal;font-family:Menlo,'DejaVu Sans Mono',consolas,'Courier New',monospace\">┏━━━━━━━━━━━━━━━━━━━━━━━━━━━━━━━━━┳━━━━━━━━━━━━━━━━━━━━━━━━┳━━━━━━━━━━━━━━━┓\n",
       "┃<span style=\"font-weight: bold\"> Layer (type)                    </span>┃<span style=\"font-weight: bold\"> Output Shape           </span>┃<span style=\"font-weight: bold\">       Param # </span>┃\n",
       "┡━━━━━━━━━━━━━━━━━━━━━━━━━━━━━━━━━╇━━━━━━━━━━━━━━━━━━━━━━━━╇━━━━━━━━━━━━━━━┩\n",
       "│ dense_6 (<span style=\"color: #0087ff; text-decoration-color: #0087ff\">Dense</span>)                 │ (<span style=\"color: #00d7ff; text-decoration-color: #00d7ff\">None</span>, <span style=\"color: #00af00; text-decoration-color: #00af00\">30</span>)             │           <span style=\"color: #00af00; text-decoration-color: #00af00\">330</span> │\n",
       "├─────────────────────────────────┼────────────────────────┼───────────────┤\n",
       "│ leaky_re_lu (<span style=\"color: #0087ff; text-decoration-color: #0087ff\">LeakyReLU</span>)         │ (<span style=\"color: #00d7ff; text-decoration-color: #00d7ff\">None</span>, <span style=\"color: #00af00; text-decoration-color: #00af00\">30</span>)             │             <span style=\"color: #00af00; text-decoration-color: #00af00\">0</span> │\n",
       "├─────────────────────────────────┼────────────────────────┼───────────────┤\n",
       "│ batch_normalization             │ (<span style=\"color: #00d7ff; text-decoration-color: #00d7ff\">None</span>, <span style=\"color: #00af00; text-decoration-color: #00af00\">30</span>)             │           <span style=\"color: #00af00; text-decoration-color: #00af00\">120</span> │\n",
       "│ (<span style=\"color: #0087ff; text-decoration-color: #0087ff\">BatchNormalization</span>)            │                        │               │\n",
       "├─────────────────────────────────┼────────────────────────┼───────────────┤\n",
       "│ dropout (<span style=\"color: #0087ff; text-decoration-color: #0087ff\">Dropout</span>)               │ (<span style=\"color: #00d7ff; text-decoration-color: #00d7ff\">None</span>, <span style=\"color: #00af00; text-decoration-color: #00af00\">30</span>)             │             <span style=\"color: #00af00; text-decoration-color: #00af00\">0</span> │\n",
       "├─────────────────────────────────┼────────────────────────┼───────────────┤\n",
       "│ dense_7 (<span style=\"color: #0087ff; text-decoration-color: #0087ff\">Dense</span>)                 │ (<span style=\"color: #00d7ff; text-decoration-color: #00d7ff\">None</span>, <span style=\"color: #00af00; text-decoration-color: #00af00\">30</span>)             │           <span style=\"color: #00af00; text-decoration-color: #00af00\">930</span> │\n",
       "├─────────────────────────────────┼────────────────────────┼───────────────┤\n",
       "│ leaky_re_lu_1 (<span style=\"color: #0087ff; text-decoration-color: #0087ff\">LeakyReLU</span>)       │ (<span style=\"color: #00d7ff; text-decoration-color: #00d7ff\">None</span>, <span style=\"color: #00af00; text-decoration-color: #00af00\">30</span>)             │             <span style=\"color: #00af00; text-decoration-color: #00af00\">0</span> │\n",
       "├─────────────────────────────────┼────────────────────────┼───────────────┤\n",
       "│ batch_normalization_1           │ (<span style=\"color: #00d7ff; text-decoration-color: #00d7ff\">None</span>, <span style=\"color: #00af00; text-decoration-color: #00af00\">30</span>)             │           <span style=\"color: #00af00; text-decoration-color: #00af00\">120</span> │\n",
       "│ (<span style=\"color: #0087ff; text-decoration-color: #0087ff\">BatchNormalization</span>)            │                        │               │\n",
       "├─────────────────────────────────┼────────────────────────┼───────────────┤\n",
       "│ dropout_1 (<span style=\"color: #0087ff; text-decoration-color: #0087ff\">Dropout</span>)             │ (<span style=\"color: #00d7ff; text-decoration-color: #00d7ff\">None</span>, <span style=\"color: #00af00; text-decoration-color: #00af00\">30</span>)             │             <span style=\"color: #00af00; text-decoration-color: #00af00\">0</span> │\n",
       "├─────────────────────────────────┼────────────────────────┼───────────────┤\n",
       "│ dense_8 (<span style=\"color: #0087ff; text-decoration-color: #0087ff\">Dense</span>)                 │ (<span style=\"color: #00d7ff; text-decoration-color: #00d7ff\">None</span>, <span style=\"color: #00af00; text-decoration-color: #00af00\">20</span>)             │           <span style=\"color: #00af00; text-decoration-color: #00af00\">620</span> │\n",
       "├─────────────────────────────────┼────────────────────────┼───────────────┤\n",
       "│ leaky_re_lu_2 (<span style=\"color: #0087ff; text-decoration-color: #0087ff\">LeakyReLU</span>)       │ (<span style=\"color: #00d7ff; text-decoration-color: #00d7ff\">None</span>, <span style=\"color: #00af00; text-decoration-color: #00af00\">20</span>)             │             <span style=\"color: #00af00; text-decoration-color: #00af00\">0</span> │\n",
       "├─────────────────────────────────┼────────────────────────┼───────────────┤\n",
       "│ batch_normalization_2           │ (<span style=\"color: #00d7ff; text-decoration-color: #00d7ff\">None</span>, <span style=\"color: #00af00; text-decoration-color: #00af00\">20</span>)             │            <span style=\"color: #00af00; text-decoration-color: #00af00\">80</span> │\n",
       "│ (<span style=\"color: #0087ff; text-decoration-color: #0087ff\">BatchNormalization</span>)            │                        │               │\n",
       "├─────────────────────────────────┼────────────────────────┼───────────────┤\n",
       "│ dropout_2 (<span style=\"color: #0087ff; text-decoration-color: #0087ff\">Dropout</span>)             │ (<span style=\"color: #00d7ff; text-decoration-color: #00d7ff\">None</span>, <span style=\"color: #00af00; text-decoration-color: #00af00\">20</span>)             │             <span style=\"color: #00af00; text-decoration-color: #00af00\">0</span> │\n",
       "├─────────────────────────────────┼────────────────────────┼───────────────┤\n",
       "│ dense_9 (<span style=\"color: #0087ff; text-decoration-color: #0087ff\">Dense</span>)                 │ (<span style=\"color: #00d7ff; text-decoration-color: #00d7ff\">None</span>, <span style=\"color: #00af00; text-decoration-color: #00af00\">1</span>)              │            <span style=\"color: #00af00; text-decoration-color: #00af00\">21</span> │\n",
       "└─────────────────────────────────┴────────────────────────┴───────────────┘\n",
       "</pre>\n"
      ],
      "text/plain": [
       "┏━━━━━━━━━━━━━━━━━━━━━━━━━━━━━━━━━┳━━━━━━━━━━━━━━━━━━━━━━━━┳━━━━━━━━━━━━━━━┓\n",
       "┃\u001b[1m \u001b[0m\u001b[1mLayer (type)                   \u001b[0m\u001b[1m \u001b[0m┃\u001b[1m \u001b[0m\u001b[1mOutput Shape          \u001b[0m\u001b[1m \u001b[0m┃\u001b[1m \u001b[0m\u001b[1m      Param #\u001b[0m\u001b[1m \u001b[0m┃\n",
       "┡━━━━━━━━━━━━━━━━━━━━━━━━━━━━━━━━━╇━━━━━━━━━━━━━━━━━━━━━━━━╇━━━━━━━━━━━━━━━┩\n",
       "│ dense_6 (\u001b[38;5;33mDense\u001b[0m)                 │ (\u001b[38;5;45mNone\u001b[0m, \u001b[38;5;34m30\u001b[0m)             │           \u001b[38;5;34m330\u001b[0m │\n",
       "├─────────────────────────────────┼────────────────────────┼───────────────┤\n",
       "│ leaky_re_lu (\u001b[38;5;33mLeakyReLU\u001b[0m)         │ (\u001b[38;5;45mNone\u001b[0m, \u001b[38;5;34m30\u001b[0m)             │             \u001b[38;5;34m0\u001b[0m │\n",
       "├─────────────────────────────────┼────────────────────────┼───────────────┤\n",
       "│ batch_normalization             │ (\u001b[38;5;45mNone\u001b[0m, \u001b[38;5;34m30\u001b[0m)             │           \u001b[38;5;34m120\u001b[0m │\n",
       "│ (\u001b[38;5;33mBatchNormalization\u001b[0m)            │                        │               │\n",
       "├─────────────────────────────────┼────────────────────────┼───────────────┤\n",
       "│ dropout (\u001b[38;5;33mDropout\u001b[0m)               │ (\u001b[38;5;45mNone\u001b[0m, \u001b[38;5;34m30\u001b[0m)             │             \u001b[38;5;34m0\u001b[0m │\n",
       "├─────────────────────────────────┼────────────────────────┼───────────────┤\n",
       "│ dense_7 (\u001b[38;5;33mDense\u001b[0m)                 │ (\u001b[38;5;45mNone\u001b[0m, \u001b[38;5;34m30\u001b[0m)             │           \u001b[38;5;34m930\u001b[0m │\n",
       "├─────────────────────────────────┼────────────────────────┼───────────────┤\n",
       "│ leaky_re_lu_1 (\u001b[38;5;33mLeakyReLU\u001b[0m)       │ (\u001b[38;5;45mNone\u001b[0m, \u001b[38;5;34m30\u001b[0m)             │             \u001b[38;5;34m0\u001b[0m │\n",
       "├─────────────────────────────────┼────────────────────────┼───────────────┤\n",
       "│ batch_normalization_1           │ (\u001b[38;5;45mNone\u001b[0m, \u001b[38;5;34m30\u001b[0m)             │           \u001b[38;5;34m120\u001b[0m │\n",
       "│ (\u001b[38;5;33mBatchNormalization\u001b[0m)            │                        │               │\n",
       "├─────────────────────────────────┼────────────────────────┼───────────────┤\n",
       "│ dropout_1 (\u001b[38;5;33mDropout\u001b[0m)             │ (\u001b[38;5;45mNone\u001b[0m, \u001b[38;5;34m30\u001b[0m)             │             \u001b[38;5;34m0\u001b[0m │\n",
       "├─────────────────────────────────┼────────────────────────┼───────────────┤\n",
       "│ dense_8 (\u001b[38;5;33mDense\u001b[0m)                 │ (\u001b[38;5;45mNone\u001b[0m, \u001b[38;5;34m20\u001b[0m)             │           \u001b[38;5;34m620\u001b[0m │\n",
       "├─────────────────────────────────┼────────────────────────┼───────────────┤\n",
       "│ leaky_re_lu_2 (\u001b[38;5;33mLeakyReLU\u001b[0m)       │ (\u001b[38;5;45mNone\u001b[0m, \u001b[38;5;34m20\u001b[0m)             │             \u001b[38;5;34m0\u001b[0m │\n",
       "├─────────────────────────────────┼────────────────────────┼───────────────┤\n",
       "│ batch_normalization_2           │ (\u001b[38;5;45mNone\u001b[0m, \u001b[38;5;34m20\u001b[0m)             │            \u001b[38;5;34m80\u001b[0m │\n",
       "│ (\u001b[38;5;33mBatchNormalization\u001b[0m)            │                        │               │\n",
       "├─────────────────────────────────┼────────────────────────┼───────────────┤\n",
       "│ dropout_2 (\u001b[38;5;33mDropout\u001b[0m)             │ (\u001b[38;5;45mNone\u001b[0m, \u001b[38;5;34m20\u001b[0m)             │             \u001b[38;5;34m0\u001b[0m │\n",
       "├─────────────────────────────────┼────────────────────────┼───────────────┤\n",
       "│ dense_9 (\u001b[38;5;33mDense\u001b[0m)                 │ (\u001b[38;5;45mNone\u001b[0m, \u001b[38;5;34m1\u001b[0m)              │            \u001b[38;5;34m21\u001b[0m │\n",
       "└─────────────────────────────────┴────────────────────────┴───────────────┘\n"
      ]
     },
     "metadata": {},
     "output_type": "display_data"
    },
    {
     "data": {
      "text/html": [
       "<pre style=\"white-space:pre;overflow-x:auto;line-height:normal;font-family:Menlo,'DejaVu Sans Mono',consolas,'Courier New',monospace\"><span style=\"font-weight: bold\"> Total params: </span><span style=\"color: #00af00; text-decoration-color: #00af00\">2,221</span> (8.68 KB)\n",
       "</pre>\n"
      ],
      "text/plain": [
       "\u001b[1m Total params: \u001b[0m\u001b[38;5;34m2,221\u001b[0m (8.68 KB)\n"
      ]
     },
     "metadata": {},
     "output_type": "display_data"
    },
    {
     "data": {
      "text/html": [
       "<pre style=\"white-space:pre;overflow-x:auto;line-height:normal;font-family:Menlo,'DejaVu Sans Mono',consolas,'Courier New',monospace\"><span style=\"font-weight: bold\"> Trainable params: </span><span style=\"color: #00af00; text-decoration-color: #00af00\">2,061</span> (8.05 KB)\n",
       "</pre>\n"
      ],
      "text/plain": [
       "\u001b[1m Trainable params: \u001b[0m\u001b[38;5;34m2,061\u001b[0m (8.05 KB)\n"
      ]
     },
     "metadata": {},
     "output_type": "display_data"
    },
    {
     "data": {
      "text/html": [
       "<pre style=\"white-space:pre;overflow-x:auto;line-height:normal;font-family:Menlo,'DejaVu Sans Mono',consolas,'Courier New',monospace\"><span style=\"font-weight: bold\"> Non-trainable params: </span><span style=\"color: #00af00; text-decoration-color: #00af00\">160</span> (640.00 B)\n",
       "</pre>\n"
      ],
      "text/plain": [
       "\u001b[1m Non-trainable params: \u001b[0m\u001b[38;5;34m160\u001b[0m (640.00 B)\n"
      ]
     },
     "metadata": {},
     "output_type": "display_data"
    }
   ],
   "source": [
    "from tensorflow.keras.models import Sequential\n",
    "from tensorflow.keras.layers import Dense, Dropout, BatchNormalization, LeakyReLU\n",
    "from tensorflow.keras.optimizers import Adam\n",
    "from tensorflow.keras.callbacks import EarlyStopping\n",
    "import tensorflow as tf\n",
    "\n",
    "model_sequential_modif = Sequential()\n",
    "\n",
    "# Input layer\n",
    "model_sequential_modif.add(tf.keras.Input(shape=(X_train.shape[1],)))\n",
    "\n",
    "# Hidden layer pertama\n",
    "model_sequential_modif.add(Dense(3 * X_train.shape[1]))  \n",
    "model_sequential_modif.add(LeakyReLU(alpha=0.3))  \n",
    "model_sequential_modif.add(BatchNormalization()) \n",
    "model_sequential_modif.add(Dropout(0.3))\n",
    "\n",
    "# Hidden layer kedua \n",
    "model_sequential_modif.add(Dense(3 * X_train.shape[1])) \n",
    "model_sequential_modif.add(LeakyReLU(alpha=0.3)) \n",
    "model_sequential_modif.add(BatchNormalization()) \n",
    "model_sequential_modif.add(Dropout(0.3)) \n",
    "\n",
    "# Hidden layer ketiga \n",
    "model_sequential_modif.add(Dense(2 * X_train.shape[1]))\n",
    "model_sequential_modif.add(LeakyReLU(alpha=0.3))\n",
    "model_sequential_modif.add(BatchNormalization()) \n",
    "model_sequential_modif.add(Dropout(0.3))\n",
    "\n",
    "# Output layer\n",
    "model_sequential_modif.add(Dense(1))\n",
    "\n",
    "optimizer = Adam(learning_rate=0.0005) \n",
    "\n",
    "model_sequential_modif.compile(optimizer=optimizer, loss='mean_squared_error', \n",
    "                                metrics=[tf.keras.metrics.RootMeanSquaredError(), 'mae', 'mape'])\n",
    "\n",
    "model_sequential_modif.summary()"
   ]
  },
  {
   "cell_type": "markdown",
   "metadata": {},
   "source": [
    "- Early stopping: Menghentikan training jika tidak ada perbaikan pada val_loss dalam 5 epoch berturut-turut.\n",
    "- Training: Dilatih selama 50 epoch, dengan validation data untuk memantau overfitting. Early stopping memastikan bahwa pelatihan berhenti saat model mulai mengalami overfitting."
   ]
  },
  {
   "cell_type": "code",
   "execution_count": null,
   "metadata": {},
   "outputs": [
    {
     "name": "stdout",
     "output_type": "stream",
     "text": [
      "Epoch 1/50\n",
      "27/27 - 0s - 4ms/step - loss: 181.4971 - mae: 10.6602 - mape: 14.0420 - root_mean_squared_error: 13.4721 - val_loss: 69.4552 - val_mae: 6.5999 - val_mape: 9.0207 - val_root_mean_squared_error: 8.3340\n",
      "Epoch 2/50\n",
      "27/27 - 0s - 3ms/step - loss: 195.4977 - mae: 11.2098 - mape: 14.8383 - root_mean_squared_error: 13.9820 - val_loss: 69.0139 - val_mae: 6.5700 - val_mape: 8.9823 - val_root_mean_squared_error: 8.3075\n",
      "Epoch 3/50\n",
      "27/27 - 0s - 3ms/step - loss: 197.6206 - mae: 11.2334 - mape: 14.8261 - root_mean_squared_error: 14.0578 - val_loss: 72.7347 - val_mae: 6.5698 - val_mape: 9.0922 - val_root_mean_squared_error: 8.5285\n",
      "Epoch 4/50\n",
      "27/27 - 0s - 3ms/step - loss: 198.1405 - mae: 11.1424 - mape: 14.6385 - root_mean_squared_error: 14.0762 - val_loss: 72.2332 - val_mae: 6.5568 - val_mape: 9.0599 - val_root_mean_squared_error: 8.4990\n",
      "Epoch 5/50\n",
      "27/27 - 0s - 3ms/step - loss: 217.8742 - mae: 11.5849 - mape: 15.2590 - root_mean_squared_error: 14.7606 - val_loss: 73.9926 - val_mae: 6.9924 - val_mape: 9.3582 - val_root_mean_squared_error: 8.6019\n",
      "Epoch 6/50\n",
      "27/27 - 0s - 3ms/step - loss: 204.9069 - mae: 11.3801 - mape: 14.9843 - root_mean_squared_error: 14.3146 - val_loss: 77.0719 - val_mae: 7.2365 - val_mape: 9.5728 - val_root_mean_squared_error: 8.7791\n",
      "Epoch 7/50\n",
      "27/27 - 0s - 3ms/step - loss: 194.1683 - mae: 11.3432 - mape: 14.9572 - root_mean_squared_error: 13.9344 - val_loss: 72.1202 - val_mae: 6.8550 - val_mape: 9.2419 - val_root_mean_squared_error: 8.4924\n"
     ]
    },
    {
     "data": {
      "text/plain": [
       "<keras.src.callbacks.history.History at 0x2db0d98d0>"
      ]
     },
     "execution_count": 106,
     "metadata": {},
     "output_type": "execute_result"
    }
   ],
   "source": [
    "early_stopping = EarlyStopping(monitor='val_loss', patience=5, restore_best_weights=True)\n",
    "\n",
    "model_sequential_modif.fit(X_train, y_train, epochs=50, verbose=2, validation_data=(X_val, y_val), callbacks=[early_stopping])"
   ]
  },
  {
   "cell_type": "markdown",
   "metadata": {},
   "source": [
    "# MODIFIKASI FUNCTIONAL MODEL"
   ]
  },
  {
   "cell_type": "markdown",
   "metadata": {},
   "source": [
    "1. Input layer:  disesuaikan dengan dimensi input.\n",
    "2. Hidden layer pertama:\n",
    "    - Leaky ReLU untuk meningkatkan kapasitas model dan mencegah \"dying neurons\".\n",
    "    - Batch Normalization dan Dropout untuk membantu pelatihan dan mencegah overfitting.\n",
    "3. Hidden layer kedua: Neuron lebih banyak untuk menjaga generalisasi model.\n",
    "4. Hidden layer ketiga: Neuron lebih banyak dan menerapkan Leaky ReLU, Batch Normalization, dan Dropout untuk layer tambahan.\n",
    "5. Output layer: tetap 1 neuron karena kita melakukan regresi."
   ]
  },
  {
   "cell_type": "code",
   "execution_count": null,
   "metadata": {},
   "outputs": [
    {
     "data": {
      "text/html": [
       "<pre style=\"white-space:pre;overflow-x:auto;line-height:normal;font-family:Menlo,'DejaVu Sans Mono',consolas,'Courier New',monospace\"><span style=\"font-weight: bold\">Model: \"functional_17\"</span>\n",
       "</pre>\n"
      ],
      "text/plain": [
       "\u001b[1mModel: \"functional_17\"\u001b[0m\n"
      ]
     },
     "metadata": {},
     "output_type": "display_data"
    },
    {
     "data": {
      "text/html": [
       "<pre style=\"white-space:pre;overflow-x:auto;line-height:normal;font-family:Menlo,'DejaVu Sans Mono',consolas,'Courier New',monospace\">┏━━━━━━━━━━━━━━━━━━━━━━━━━━━━━━━━━┳━━━━━━━━━━━━━━━━━━━━━━━━┳━━━━━━━━━━━━━━━┓\n",
       "┃<span style=\"font-weight: bold\"> Layer (type)                    </span>┃<span style=\"font-weight: bold\"> Output Shape           </span>┃<span style=\"font-weight: bold\">       Param # </span>┃\n",
       "┡━━━━━━━━━━━━━━━━━━━━━━━━━━━━━━━━━╇━━━━━━━━━━━━━━━━━━━━━━━━╇━━━━━━━━━━━━━━━┩\n",
       "│ input_layer_3 (<span style=\"color: #0087ff; text-decoration-color: #0087ff\">InputLayer</span>)      │ (<span style=\"color: #00d7ff; text-decoration-color: #00d7ff\">None</span>, <span style=\"color: #00af00; text-decoration-color: #00af00\">10</span>)             │             <span style=\"color: #00af00; text-decoration-color: #00af00\">0</span> │\n",
       "├─────────────────────────────────┼────────────────────────┼───────────────┤\n",
       "│ dense_10 (<span style=\"color: #0087ff; text-decoration-color: #0087ff\">Dense</span>)                │ (<span style=\"color: #00d7ff; text-decoration-color: #00d7ff\">None</span>, <span style=\"color: #00af00; text-decoration-color: #00af00\">30</span>)             │           <span style=\"color: #00af00; text-decoration-color: #00af00\">330</span> │\n",
       "├─────────────────────────────────┼────────────────────────┼───────────────┤\n",
       "│ leaky_re_lu_3 (<span style=\"color: #0087ff; text-decoration-color: #0087ff\">LeakyReLU</span>)       │ (<span style=\"color: #00d7ff; text-decoration-color: #00d7ff\">None</span>, <span style=\"color: #00af00; text-decoration-color: #00af00\">30</span>)             │             <span style=\"color: #00af00; text-decoration-color: #00af00\">0</span> │\n",
       "├─────────────────────────────────┼────────────────────────┼───────────────┤\n",
       "│ batch_normalization_3           │ (<span style=\"color: #00d7ff; text-decoration-color: #00d7ff\">None</span>, <span style=\"color: #00af00; text-decoration-color: #00af00\">30</span>)             │           <span style=\"color: #00af00; text-decoration-color: #00af00\">120</span> │\n",
       "│ (<span style=\"color: #0087ff; text-decoration-color: #0087ff\">BatchNormalization</span>)            │                        │               │\n",
       "├─────────────────────────────────┼────────────────────────┼───────────────┤\n",
       "│ dropout_3 (<span style=\"color: #0087ff; text-decoration-color: #0087ff\">Dropout</span>)             │ (<span style=\"color: #00d7ff; text-decoration-color: #00d7ff\">None</span>, <span style=\"color: #00af00; text-decoration-color: #00af00\">30</span>)             │             <span style=\"color: #00af00; text-decoration-color: #00af00\">0</span> │\n",
       "├─────────────────────────────────┼────────────────────────┼───────────────┤\n",
       "│ dense_11 (<span style=\"color: #0087ff; text-decoration-color: #0087ff\">Dense</span>)                │ (<span style=\"color: #00d7ff; text-decoration-color: #00d7ff\">None</span>, <span style=\"color: #00af00; text-decoration-color: #00af00\">30</span>)             │           <span style=\"color: #00af00; text-decoration-color: #00af00\">930</span> │\n",
       "├─────────────────────────────────┼────────────────────────┼───────────────┤\n",
       "│ leaky_re_lu_4 (<span style=\"color: #0087ff; text-decoration-color: #0087ff\">LeakyReLU</span>)       │ (<span style=\"color: #00d7ff; text-decoration-color: #00d7ff\">None</span>, <span style=\"color: #00af00; text-decoration-color: #00af00\">30</span>)             │             <span style=\"color: #00af00; text-decoration-color: #00af00\">0</span> │\n",
       "├─────────────────────────────────┼────────────────────────┼───────────────┤\n",
       "│ batch_normalization_4           │ (<span style=\"color: #00d7ff; text-decoration-color: #00d7ff\">None</span>, <span style=\"color: #00af00; text-decoration-color: #00af00\">30</span>)             │           <span style=\"color: #00af00; text-decoration-color: #00af00\">120</span> │\n",
       "│ (<span style=\"color: #0087ff; text-decoration-color: #0087ff\">BatchNormalization</span>)            │                        │               │\n",
       "├─────────────────────────────────┼────────────────────────┼───────────────┤\n",
       "│ dropout_4 (<span style=\"color: #0087ff; text-decoration-color: #0087ff\">Dropout</span>)             │ (<span style=\"color: #00d7ff; text-decoration-color: #00d7ff\">None</span>, <span style=\"color: #00af00; text-decoration-color: #00af00\">30</span>)             │             <span style=\"color: #00af00; text-decoration-color: #00af00\">0</span> │\n",
       "├─────────────────────────────────┼────────────────────────┼───────────────┤\n",
       "│ dense_12 (<span style=\"color: #0087ff; text-decoration-color: #0087ff\">Dense</span>)                │ (<span style=\"color: #00d7ff; text-decoration-color: #00d7ff\">None</span>, <span style=\"color: #00af00; text-decoration-color: #00af00\">20</span>)             │           <span style=\"color: #00af00; text-decoration-color: #00af00\">620</span> │\n",
       "├─────────────────────────────────┼────────────────────────┼───────────────┤\n",
       "│ leaky_re_lu_5 (<span style=\"color: #0087ff; text-decoration-color: #0087ff\">LeakyReLU</span>)       │ (<span style=\"color: #00d7ff; text-decoration-color: #00d7ff\">None</span>, <span style=\"color: #00af00; text-decoration-color: #00af00\">20</span>)             │             <span style=\"color: #00af00; text-decoration-color: #00af00\">0</span> │\n",
       "├─────────────────────────────────┼────────────────────────┼───────────────┤\n",
       "│ batch_normalization_5           │ (<span style=\"color: #00d7ff; text-decoration-color: #00d7ff\">None</span>, <span style=\"color: #00af00; text-decoration-color: #00af00\">20</span>)             │            <span style=\"color: #00af00; text-decoration-color: #00af00\">80</span> │\n",
       "│ (<span style=\"color: #0087ff; text-decoration-color: #0087ff\">BatchNormalization</span>)            │                        │               │\n",
       "├─────────────────────────────────┼────────────────────────┼───────────────┤\n",
       "│ dropout_5 (<span style=\"color: #0087ff; text-decoration-color: #0087ff\">Dropout</span>)             │ (<span style=\"color: #00d7ff; text-decoration-color: #00d7ff\">None</span>, <span style=\"color: #00af00; text-decoration-color: #00af00\">20</span>)             │             <span style=\"color: #00af00; text-decoration-color: #00af00\">0</span> │\n",
       "├─────────────────────────────────┼────────────────────────┼───────────────┤\n",
       "│ dense_13 (<span style=\"color: #0087ff; text-decoration-color: #0087ff\">Dense</span>)                │ (<span style=\"color: #00d7ff; text-decoration-color: #00d7ff\">None</span>, <span style=\"color: #00af00; text-decoration-color: #00af00\">1</span>)              │            <span style=\"color: #00af00; text-decoration-color: #00af00\">21</span> │\n",
       "└─────────────────────────────────┴────────────────────────┴───────────────┘\n",
       "</pre>\n"
      ],
      "text/plain": [
       "┏━━━━━━━━━━━━━━━━━━━━━━━━━━━━━━━━━┳━━━━━━━━━━━━━━━━━━━━━━━━┳━━━━━━━━━━━━━━━┓\n",
       "┃\u001b[1m \u001b[0m\u001b[1mLayer (type)                   \u001b[0m\u001b[1m \u001b[0m┃\u001b[1m \u001b[0m\u001b[1mOutput Shape          \u001b[0m\u001b[1m \u001b[0m┃\u001b[1m \u001b[0m\u001b[1m      Param #\u001b[0m\u001b[1m \u001b[0m┃\n",
       "┡━━━━━━━━━━━━━━━━━━━━━━━━━━━━━━━━━╇━━━━━━━━━━━━━━━━━━━━━━━━╇━━━━━━━━━━━━━━━┩\n",
       "│ input_layer_3 (\u001b[38;5;33mInputLayer\u001b[0m)      │ (\u001b[38;5;45mNone\u001b[0m, \u001b[38;5;34m10\u001b[0m)             │             \u001b[38;5;34m0\u001b[0m │\n",
       "├─────────────────────────────────┼────────────────────────┼───────────────┤\n",
       "│ dense_10 (\u001b[38;5;33mDense\u001b[0m)                │ (\u001b[38;5;45mNone\u001b[0m, \u001b[38;5;34m30\u001b[0m)             │           \u001b[38;5;34m330\u001b[0m │\n",
       "├─────────────────────────────────┼────────────────────────┼───────────────┤\n",
       "│ leaky_re_lu_3 (\u001b[38;5;33mLeakyReLU\u001b[0m)       │ (\u001b[38;5;45mNone\u001b[0m, \u001b[38;5;34m30\u001b[0m)             │             \u001b[38;5;34m0\u001b[0m │\n",
       "├─────────────────────────────────┼────────────────────────┼───────────────┤\n",
       "│ batch_normalization_3           │ (\u001b[38;5;45mNone\u001b[0m, \u001b[38;5;34m30\u001b[0m)             │           \u001b[38;5;34m120\u001b[0m │\n",
       "│ (\u001b[38;5;33mBatchNormalization\u001b[0m)            │                        │               │\n",
       "├─────────────────────────────────┼────────────────────────┼───────────────┤\n",
       "│ dropout_3 (\u001b[38;5;33mDropout\u001b[0m)             │ (\u001b[38;5;45mNone\u001b[0m, \u001b[38;5;34m30\u001b[0m)             │             \u001b[38;5;34m0\u001b[0m │\n",
       "├─────────────────────────────────┼────────────────────────┼───────────────┤\n",
       "│ dense_11 (\u001b[38;5;33mDense\u001b[0m)                │ (\u001b[38;5;45mNone\u001b[0m, \u001b[38;5;34m30\u001b[0m)             │           \u001b[38;5;34m930\u001b[0m │\n",
       "├─────────────────────────────────┼────────────────────────┼───────────────┤\n",
       "│ leaky_re_lu_4 (\u001b[38;5;33mLeakyReLU\u001b[0m)       │ (\u001b[38;5;45mNone\u001b[0m, \u001b[38;5;34m30\u001b[0m)             │             \u001b[38;5;34m0\u001b[0m │\n",
       "├─────────────────────────────────┼────────────────────────┼───────────────┤\n",
       "│ batch_normalization_4           │ (\u001b[38;5;45mNone\u001b[0m, \u001b[38;5;34m30\u001b[0m)             │           \u001b[38;5;34m120\u001b[0m │\n",
       "│ (\u001b[38;5;33mBatchNormalization\u001b[0m)            │                        │               │\n",
       "├─────────────────────────────────┼────────────────────────┼───────────────┤\n",
       "│ dropout_4 (\u001b[38;5;33mDropout\u001b[0m)             │ (\u001b[38;5;45mNone\u001b[0m, \u001b[38;5;34m30\u001b[0m)             │             \u001b[38;5;34m0\u001b[0m │\n",
       "├─────────────────────────────────┼────────────────────────┼───────────────┤\n",
       "│ dense_12 (\u001b[38;5;33mDense\u001b[0m)                │ (\u001b[38;5;45mNone\u001b[0m, \u001b[38;5;34m20\u001b[0m)             │           \u001b[38;5;34m620\u001b[0m │\n",
       "├─────────────────────────────────┼────────────────────────┼───────────────┤\n",
       "│ leaky_re_lu_5 (\u001b[38;5;33mLeakyReLU\u001b[0m)       │ (\u001b[38;5;45mNone\u001b[0m, \u001b[38;5;34m20\u001b[0m)             │             \u001b[38;5;34m0\u001b[0m │\n",
       "├─────────────────────────────────┼────────────────────────┼───────────────┤\n",
       "│ batch_normalization_5           │ (\u001b[38;5;45mNone\u001b[0m, \u001b[38;5;34m20\u001b[0m)             │            \u001b[38;5;34m80\u001b[0m │\n",
       "│ (\u001b[38;5;33mBatchNormalization\u001b[0m)            │                        │               │\n",
       "├─────────────────────────────────┼────────────────────────┼───────────────┤\n",
       "│ dropout_5 (\u001b[38;5;33mDropout\u001b[0m)             │ (\u001b[38;5;45mNone\u001b[0m, \u001b[38;5;34m20\u001b[0m)             │             \u001b[38;5;34m0\u001b[0m │\n",
       "├─────────────────────────────────┼────────────────────────┼───────────────┤\n",
       "│ dense_13 (\u001b[38;5;33mDense\u001b[0m)                │ (\u001b[38;5;45mNone\u001b[0m, \u001b[38;5;34m1\u001b[0m)              │            \u001b[38;5;34m21\u001b[0m │\n",
       "└─────────────────────────────────┴────────────────────────┴───────────────┘\n"
      ]
     },
     "metadata": {},
     "output_type": "display_data"
    },
    {
     "data": {
      "text/html": [
       "<pre style=\"white-space:pre;overflow-x:auto;line-height:normal;font-family:Menlo,'DejaVu Sans Mono',consolas,'Courier New',monospace\"><span style=\"font-weight: bold\"> Total params: </span><span style=\"color: #00af00; text-decoration-color: #00af00\">2,221</span> (8.68 KB)\n",
       "</pre>\n"
      ],
      "text/plain": [
       "\u001b[1m Total params: \u001b[0m\u001b[38;5;34m2,221\u001b[0m (8.68 KB)\n"
      ]
     },
     "metadata": {},
     "output_type": "display_data"
    },
    {
     "data": {
      "text/html": [
       "<pre style=\"white-space:pre;overflow-x:auto;line-height:normal;font-family:Menlo,'DejaVu Sans Mono',consolas,'Courier New',monospace\"><span style=\"font-weight: bold\"> Trainable params: </span><span style=\"color: #00af00; text-decoration-color: #00af00\">2,061</span> (8.05 KB)\n",
       "</pre>\n"
      ],
      "text/plain": [
       "\u001b[1m Trainable params: \u001b[0m\u001b[38;5;34m2,061\u001b[0m (8.05 KB)\n"
      ]
     },
     "metadata": {},
     "output_type": "display_data"
    },
    {
     "data": {
      "text/html": [
       "<pre style=\"white-space:pre;overflow-x:auto;line-height:normal;font-family:Menlo,'DejaVu Sans Mono',consolas,'Courier New',monospace\"><span style=\"font-weight: bold\"> Non-trainable params: </span><span style=\"color: #00af00; text-decoration-color: #00af00\">160</span> (640.00 B)\n",
       "</pre>\n"
      ],
      "text/plain": [
       "\u001b[1m Non-trainable params: \u001b[0m\u001b[38;5;34m160\u001b[0m (640.00 B)\n"
      ]
     },
     "metadata": {},
     "output_type": "display_data"
    }
   ],
   "source": [
    "from tensorflow.keras import Input, Model\n",
    "from tensorflow.keras.layers import Dense, Dropout, LeakyReLU, BatchNormalization\n",
    "from tensorflow.keras.optimizers import Adam\n",
    "from tensorflow.keras.callbacks import EarlyStopping\n",
    "\n",
    "inputs = Input(shape=(X_train.shape[1],))\n",
    "\n",
    "# Hidden layer pertama \n",
    "x = Dense(3 * X_train.shape[1])(inputs) \n",
    "x = LeakyReLU(alpha=0.3)(x)  \n",
    "x = BatchNormalization()(x)  \n",
    "x = Dropout(0.3)(x) \n",
    "\n",
    "# Hidden layer kedua\n",
    "x = Dense(3 * X_train.shape[1])(x) \n",
    "x = LeakyReLU(alpha=0.3)(x)\n",
    "x = BatchNormalization()(x)\n",
    "x = Dropout(0.3)(x) \n",
    "\n",
    "# Hidden layer ketiga \n",
    "x = Dense(2 * X_train.shape[1])(x)\n",
    "x = LeakyReLU(alpha=0.3)(x) \n",
    "x = BatchNormalization()(x) \n",
    "x = Dropout(0.3)(x) \n",
    "\n",
    "# Output layer\n",
    "outputs = Dense(1)(x)\n",
    "\n",
    "model_functional_modif = Model(inputs=inputs, outputs=outputs)\n",
    "\n",
    "optimizer = Adam(learning_rate=0.0005)  # Learning rate lebih rendah\n",
    "\n",
    "model_functional_modif.compile(optimizer=optimizer, loss='mean_squared_error', \n",
    "                                metrics=[tf.keras.metrics.RootMeanSquaredError(), 'mae', 'mape'])\n",
    "\n",
    "model_functional_modif.summary()"
   ]
  },
  {
   "cell_type": "markdown",
   "metadata": {},
   "source": [
    "Model dilatih selama 50 epoch dengan early stopping dan validation data untuk memantau performa."
   ]
  },
  {
   "cell_type": "code",
   "execution_count": null,
   "metadata": {},
   "outputs": [
    {
     "name": "stdout",
     "output_type": "stream",
     "text": [
      "Epoch 1/50\n",
      "27/27 - 0s - 4ms/step - loss: 195.3911 - mae: 10.9776 - mape: 14.4857 - root_mean_squared_error: 13.9782 - val_loss: 77.2608 - val_mae: 7.2373 - val_mape: 9.5553 - val_root_mean_squared_error: 8.7898\n",
      "Epoch 2/50\n",
      "27/27 - 0s - 3ms/step - loss: 193.9443 - mae: 11.1688 - mape: 14.7077 - root_mean_squared_error: 13.9264 - val_loss: 112.9375 - val_mae: 8.9133 - val_mape: 11.3218 - val_root_mean_squared_error: 10.6272\n",
      "Epoch 3/50\n",
      "27/27 - 0s - 3ms/step - loss: 205.4549 - mae: 11.4398 - mape: 15.1007 - root_mean_squared_error: 14.3337 - val_loss: 71.8089 - val_mae: 6.6250 - val_mape: 9.0282 - val_root_mean_squared_error: 8.4740\n",
      "Epoch 4/50\n",
      "27/27 - 0s - 3ms/step - loss: 194.7201 - mae: 10.9918 - mape: 14.5293 - root_mean_squared_error: 13.9542 - val_loss: 75.7124 - val_mae: 7.0928 - val_mape: 9.4203 - val_root_mean_squared_error: 8.7013\n",
      "Epoch 5/50\n",
      "27/27 - 0s - 3ms/step - loss: 194.6088 - mae: 10.9449 - mape: 14.3597 - root_mean_squared_error: 13.9502 - val_loss: 91.6898 - val_mae: 8.0257 - val_mape: 10.3717 - val_root_mean_squared_error: 9.5755\n",
      "Epoch 6/50\n",
      "27/27 - 0s - 3ms/step - loss: 186.6893 - mae: 10.9832 - mape: 14.4922 - root_mean_squared_error: 13.6634 - val_loss: 72.5401 - val_mae: 6.6850 - val_mape: 9.1311 - val_root_mean_squared_error: 8.5170\n",
      "Epoch 7/50\n",
      "27/27 - 0s - 3ms/step - loss: 211.4969 - mae: 11.5716 - mape: 15.2949 - root_mean_squared_error: 14.5429 - val_loss: 74.1374 - val_mae: 6.8945 - val_mape: 9.2877 - val_root_mean_squared_error: 8.6103\n",
      "Epoch 8/50\n",
      "27/27 - 0s - 3ms/step - loss: 197.5047 - mae: 11.1061 - mape: 14.6413 - root_mean_squared_error: 14.0536 - val_loss: 74.8698 - val_mae: 6.9946 - val_mape: 9.3507 - val_root_mean_squared_error: 8.6527\n"
     ]
    },
    {
     "data": {
      "text/plain": [
       "<keras.src.callbacks.history.History at 0x2d88d8310>"
      ]
     },
     "execution_count": 86,
     "metadata": {},
     "output_type": "execute_result"
    }
   ],
   "source": [
    "early_stopping = EarlyStopping(monitor='val_loss', patience=5, restore_best_weights=True)\n",
    "\n",
    "model_functional_modif.fit(X_train, y_train, epochs=50, verbose=2, validation_data=(X_val, y_val), callbacks=[early_stopping])"
   ]
  },
  {
   "cell_type": "markdown",
   "metadata": {},
   "source": [
    "# EVALUASI 4 MODEL"
   ]
  },
  {
   "cell_type": "code",
   "execution_count": null,
   "metadata": {},
   "outputs": [
    {
     "name": "stdout",
     "output_type": "stream",
     "text": [
      "\u001b[1m8/8\u001b[0m \u001b[32m━━━━━━━━━━━━━━━━━━━━\u001b[0m\u001b[37m\u001b[0m \u001b[1m0s\u001b[0m 5ms/step \n",
      "\u001b[1m8/8\u001b[0m \u001b[32m━━━━━━━━━━━━━━━━━━━━\u001b[0m\u001b[37m\u001b[0m \u001b[1m0s\u001b[0m 5ms/step \n",
      "WARNING:tensorflow:5 out of the last 17 calls to <function TensorFlowTrainer.make_predict_function.<locals>.one_step_on_data_distributed at 0x2daa58040> triggered tf.function retracing. Tracing is expensive and the excessive number of tracings could be due to (1) creating @tf.function repeatedly in a loop, (2) passing tensors with different shapes, (3) passing Python objects instead of tensors. For (1), please define your @tf.function outside of the loop. For (2), @tf.function has reduce_retracing=True option that can avoid unnecessary retracing. For (3), please refer to https://www.tensorflow.org/guide/function#controlling_retracing and https://www.tensorflow.org/api_docs/python/tf/function for  more details.\n",
      "\u001b[1m8/8\u001b[0m \u001b[32m━━━━━━━━━━━━━━━━━━━━\u001b[0m\u001b[37m\u001b[0m \u001b[1m0s\u001b[0m 9ms/step\n",
      "WARNING:tensorflow:5 out of the last 17 calls to <function TensorFlowTrainer.make_predict_function.<locals>.one_step_on_data_distributed at 0x2daa5a2a0> triggered tf.function retracing. Tracing is expensive and the excessive number of tracings could be due to (1) creating @tf.function repeatedly in a loop, (2) passing tensors with different shapes, (3) passing Python objects instead of tensors. For (1), please define your @tf.function outside of the loop. For (2), @tf.function has reduce_retracing=True option that can avoid unnecessary retracing. For (3), please refer to https://www.tensorflow.org/guide/function#controlling_retracing and https://www.tensorflow.org/api_docs/python/tf/function for  more details.\n",
      "\u001b[1m8/8\u001b[0m \u001b[32m━━━━━━━━━━━━━━━━━━━━\u001b[0m\u001b[37m\u001b[0m \u001b[1m0s\u001b[0m 9ms/step\n",
      "Evaluasi Model:\n",
      "\n",
      "Original Sequential Model:\n",
      "MSE: 61.860305743374, MAE: 6.252115019364708, R²: 0.1754854133067154\n",
      "\n",
      "Original Functional Model:\n",
      "MSE: 62.45223043036776, MAE: 6.266800704254569, R²: 0.16759585419792467\n",
      "\n",
      "Modified Sequential Model:\n",
      "MSE: 57.56914201211439, MAE: 5.9893836617507645, R²: 0.23268084821113644\n",
      "\n",
      "Modified Functional Model:\n",
      "MSE: 57.59351134368601, MAE: 5.957974902223641, R²: 0.23235603783221392\n"
     ]
    }
   ],
   "source": [
    "from sklearn.metrics import mean_squared_error, mean_absolute_error, r2_score\n",
    "\n",
    "# Evaluasi untuk Sequential Model (Original)\n",
    "y_pred_sequential = model_sequential.predict(X_test)\n",
    "mse_sequential = mean_squared_error(y_test, y_pred_sequential)\n",
    "mae_sequential = mean_absolute_error(y_test, y_pred_sequential)\n",
    "r2_sequential = r2_score(y_test, y_pred_sequential)\n",
    "\n",
    "# Evaluasi untuk Functional Model (Original)\n",
    "y_pred_functional = model_functional.predict(X_test)\n",
    "mse_functional = mean_squared_error(y_test, y_pred_functional)\n",
    "mae_functional = mean_absolute_error(y_test, y_pred_functional)\n",
    "r2_functional = r2_score(y_test, y_pred_functional)\n",
    "\n",
    "# Evaluasi untuk Sequential Model (Modified)\n",
    "y_pred_sequential_modif = model_sequential_modif.predict(X_test)\n",
    "mse_sequential_modif = mean_squared_error(y_test, y_pred_sequential_modif)\n",
    "mae_sequential_modif = mean_absolute_error(y_test, y_pred_sequential_modif)\n",
    "r2_sequential_modif = r2_score(y_test, y_pred_sequential_modif)\n",
    "\n",
    "# Evaluasi untuk Functional Model (Modified)\n",
    "y_pred_functional_modif = model_functional_modif.predict(X_test)\n",
    "mse_functional_modif = mean_squared_error(y_test, y_pred_functional_modif)\n",
    "mae_functional_modif = mean_absolute_error(y_test, y_pred_functional_modif)\n",
    "r2_functional_modif = r2_score(y_test, y_pred_functional_modif)\n",
    "\n",
    "\n",
    "\n",
    "# Menampilkan hasil evaluasi\n",
    "print(\"Evaluasi Model:\")\n",
    "\n",
    "# Evaluasi Original Sequential Model\n",
    "print(\"\\nOriginal Sequential Model:\")\n",
    "print(f\"MSE: {mse_sequential}, MAE: {mae_sequential}, R²: {r2_sequential}\")\n",
    "\n",
    "# Evaluasi Original Functional Model\n",
    "print(\"\\nOriginal Functional Model:\")\n",
    "print(f\"MSE: {mse_functional}, MAE: {mae_functional}, R²: {r2_functional}\")\n",
    "\n",
    "# Evaluasi Modified Sequential Model\n",
    "print(\"\\nModified Sequential Model:\")\n",
    "print(f\"MSE: {mse_sequential_modif}, MAE: {mae_sequential_modif}, R²: {r2_sequential_modif}\")\n",
    "\n",
    "# Evaluasi Modified Functional Model\n",
    "print(\"\\nModified Functional Model:\")\n",
    "print(f\"MSE: {mse_functional_modif}, MAE: {mae_functional_modif}, R²: {r2_functional_modif}\")\n"
   ]
  },
  {
   "cell_type": "markdown",
   "metadata": {},
   "source": [
    "#### Evaluasi Model dan Analisis\n",
    "1. Original Sequential Model:\n",
    "MSE: 61.86, MAE: 6.25, R²: 0.175\n",
    "\n",
    "    Analisis: Model ini memiliki kesalahan prediksi yang tinggi dengan R² rendah, hanya menjelaskan 17.5% variasi dalam data.\n",
    "\n",
    "2. Original Functional Model:\n",
    "MSE: 62.45, MAE: 6.27, R²: 0.168\n",
    "\n",
    "    Analisis: Performa hampir identik dengan Sequential Model. R² lebih rendah, yang menunjukkan bahwa model ini sedikit lebih buruk dalam menjelaskan variasi target.\n",
    "\n",
    "3. Modified Sequential Model:\n",
    "MSE: 57.57, MAE: 5.99, R²: 0.233\n",
    "\n",
    "    Analisis: Modifikasi menunjukkan peningkatan signifikan dalam mengurangi kesalahan dan meningkatkan R² menjadi 23.3%, lebih baik dibandingkan model original.\n",
    "\n",
    "4. Modified Functional Model:\n",
    "MSE: 57.59, MAE: 5.96, R²: 0.232\n",
    "\n",
    "    Analisis: Hasilnya sangat mirip dengan Modified Sequential Model, dengan sedikit perbedaan di MSE dan R².\n",
    "\n"
   ]
  },
  {
   "cell_type": "markdown",
   "metadata": {},
   "source": [
    "#### Kesimpulan:\n",
    "    - Modified Sequential Model adalah yang paling optimal dengan MSE lebih rendah dan R² lebih tinggi dibandingkan model original dan Functional Model.\n",
    "\n",
    "    - Modifikasi dengan Leaky ReLU, Batch Normalization, dan Dropout meningkatkan kinerja model secara keseluruhan."
   ]
  }
 ],
 "metadata": {
  "kernelspec": {
   "display_name": "base",
   "language": "python",
   "name": "python3"
  },
  "language_info": {
   "codemirror_mode": {
    "name": "ipython",
    "version": 3
   },
   "file_extension": ".py",
   "mimetype": "text/x-python",
   "name": "python",
   "nbconvert_exporter": "python",
   "pygments_lexer": "ipython3",
   "version": "3.11.4"
  }
 },
 "nbformat": 4,
 "nbformat_minor": 2
}
